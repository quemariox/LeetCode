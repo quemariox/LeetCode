{
  "nbformat": 4,
  "nbformat_minor": 0,
  "metadata": {
    "colab": {
      "private_outputs": true,
      "provenance": [],
      "authorship_tag": "ABX9TyOhmn1MOhSwjDM7vJBbN8jw",
      "include_colab_link": true
    },
    "kernelspec": {
      "name": "python3",
      "display_name": "Python 3"
    },
    "language_info": {
      "name": "python"
    }
  },
  "cells": [
    {
      "cell_type": "markdown",
      "metadata": {
        "id": "view-in-github",
        "colab_type": "text"
      },
      "source": [
        "<a href=\"https://colab.research.google.com/github/quemariox/LeetCode/blob/main/0066_plus_one.ipynb\" target=\"_parent\"><img src=\"https://colab.research.google.com/assets/colab-badge.svg\" alt=\"Open In Colab\"/></a>"
      ]
    },
    {
      "cell_type": "markdown",
      "source": [
        "# Descrição do problema"
      ],
      "metadata": {
        "id": "6fgf5oNvb9kL"
      }
    },
    {
      "cell_type": "markdown",
      "source": [
        "## Plus One\n",
        "\n",
        "You are given a large integer represented as an integer array digits, where each digits[i] is the ith digit of the integer. The digits are ordered from most significant to least significant in left-to-right order. The large integer does not contain any leading 0's.\n",
        "\n",
        "Increment the large integer by one and return the resulting array of digits.\n",
        "\n",
        "## Examples:\n",
        "\n",
        "Example 1:\n",
        "\n",
        "Input: digits = [1,2,3]\n",
        "Output: [1,2,4]\n",
        "Explanation: The array represents the integer 123.\n",
        "Incrementing by one gives 123 + 1 = 124.\n",
        "Thus, the result should be [1,2,4].\n",
        "\n",
        "Example 2:\n",
        "\n",
        "Input: digits = [4,3,2,1]\n",
        "Output: [4,3,2,2]\n",
        "Explanation: The array represents the integer 4321.\n",
        "Incrementing by one gives 4321 + 1 = 4322.\n",
        "Thus, the result should be [4,3,2,2].\n",
        "\n",
        "Example 3:\n",
        "\n",
        "Input: digits = [9]\n",
        "Output: [1,0]\n",
        "Explanation: The array represents the integer 9.\n",
        "Incrementing by one gives 9 + 1 = 10.\n",
        "Thus, the result should be [1,0].\n",
        "\n",
        "## Constraints:\n",
        "\n",
        "    1 <= digits.length <= 100\n",
        "    0 <= digits[i] <= 9\n",
        "    digits does not contain any leading 0's."
      ],
      "metadata": {
        "id": "Gff2EibjcAvr"
      }
    },
    {
      "cell_type": "markdown",
      "source": [
        "## Solução"
      ],
      "metadata": {
        "id": "kt10X9WxcKYG"
      }
    },
    {
      "cell_type": "code",
      "execution_count": null,
      "metadata": {
        "id": "KCyVptLlbd-K"
      },
      "outputs": [],
      "source": [
        "# Solução usando typecasting\n",
        "class Solution(object):\n",
        "    def plusOne(self, digits):\n",
        "        \"\"\"\n",
        "        :type digits: List[int]\n",
        "        :rtype: List[int]\n",
        "        \"\"\"\n",
        "        digits_str = str(digits)\n",
        "        digits_str = digits_str.strip('[').strip(']').replace(',','').replace(' ','')\n",
        "        digits_int = int(digits_str)\n",
        "        digits_int += 1\n",
        "        digits_str = str(digits_int)\n",
        "        digits_list = [int(digit) for digit in digits_str]\n",
        "\n",
        "        return digits_list"
      ]
    },
    {
      "cell_type": "code",
      "source": [
        "#solução sem usar typecasting\n",
        "class Solution(object):\n",
        "    def plusOne(self, digits):\n",
        "        \"\"\"\n",
        "        :type digits: List[int]\n",
        "        :rtype: List[int]\n",
        "        \"\"\"\n",
        "        n = len(digits)\n",
        "\n",
        "        for i in range(n - 1, -1, -1): #percorre a lista de trás pra frente\n",
        "            if digits[i] < 9:\n",
        "                digits[i] += 1\n",
        "                return digits\n",
        "            else:\n",
        "                digits[i] = 0\n",
        "\n",
        "        return [1] + [0]*n"
      ],
      "metadata": {
        "id": "Tw-yASKg37Lf"
      },
      "execution_count": null,
      "outputs": []
    },
    {
      "cell_type": "code",
      "source": [
        "sol = Solution()\n",
        "digits = [9,9,9]\n",
        "retorno = sol.plusOne(digits)\n",
        "print(retorno)"
      ],
      "metadata": {
        "id": "xscNA9oZ39mc"
      },
      "execution_count": null,
      "outputs": []
    },
    {
      "cell_type": "markdown",
      "source": [
        "## Esboço"
      ],
      "metadata": {
        "id": "m8FiorwOcMdS"
      }
    },
    {
      "cell_type": "code",
      "source": [
        "# Solução usando type casting\n",
        "\n",
        "digits = [9]\n",
        "\n",
        "digits = str(digits)\n",
        "digits = int(digits.strip('[').strip(']').replace(',','').replace(' ','')) + 1\n",
        "digits = [int(digito) for digito in str(digits)]\n",
        "\n",
        "print(digits)\n"
      ],
      "metadata": {
        "id": "JpEUxTktcNpG"
      },
      "execution_count": null,
      "outputs": []
    },
    {
      "cell_type": "code",
      "source": [
        "# Solução sem type casting (não é a versão final)\n",
        "\n",
        "digits = [9,9,9]\n",
        "one = [0]*(len(digits)-1) + [1]\n",
        "sum = [0]*len(digits)\n",
        "\n",
        "n = len(one)\n",
        "\n",
        "#quando o AMS <= 9\n",
        "for i in range(n-1,-1,-1):\n",
        "    sum[-i] += digits[-i] + one[-i]\n",
        "    if sum[-i] > 9:\n",
        "        sum[-i] -= 10\n",
        "        sum[-i-1] += 1\n",
        "\n",
        "#por algum motivo o essa próxima parte não passa no \"case3\" do leetcode,\n",
        "#nela eu insiro manualmente o dígito AMS\n",
        "\n",
        "#quando o AMS >= 10\n",
        "if sum[0] >= 10:\n",
        "    ams = sum[0] #salva AMS antes de alterar \"sum\"\n",
        "    sum = [0] + sum #cria um espaço no início de \"sum\"\n",
        "\n",
        "    sum[0] = 1\n",
        "    sum[1] = ams - 10\n",
        "    print(sum)\n",
        "\n",
        "print(sum)"
      ],
      "metadata": {
        "id": "RhYl17ndls_m"
      },
      "execution_count": null,
      "outputs": []
    },
    {
      "cell_type": "code",
      "source": [
        "# Solução aceita pelo leetcode\n",
        "\n",
        "def plusOne(digits:list):\n",
        "\n",
        "    n = len(digits)\n",
        "\n",
        "    for i in range(n - 1, -1, -1): #percorrendo a lista de trás pra frente\n",
        "\n",
        "        if digits[i] < 9:\n",
        "            digits[i] += 1\n",
        "            return digits\n",
        "\n",
        "        else:\n",
        "            digits[i] = 0\n",
        "\n",
        "    return [1] + [0]*n\n",
        "\n",
        "# Testando\n",
        "digits = [9,9,9]\n",
        "plusOne(digits)"
      ],
      "metadata": {
        "id": "NVKVDRP26G2M"
      },
      "execution_count": null,
      "outputs": []
    },
    {
      "cell_type": "code",
      "source": [],
      "metadata": {
        "id": "X__XW8UH9_Be"
      },
      "execution_count": null,
      "outputs": []
    }
  ]
}