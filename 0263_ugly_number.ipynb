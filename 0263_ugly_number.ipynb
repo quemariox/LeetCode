{
  "nbformat": 4,
  "nbformat_minor": 0,
  "metadata": {
    "colab": {
      "private_outputs": true,
      "provenance": [],
      "authorship_tag": "ABX9TyOWPplmTsYB3scn16yEgo+J",
      "include_colab_link": true
    },
    "kernelspec": {
      "name": "python3",
      "display_name": "Python 3"
    },
    "language_info": {
      "name": "python"
    }
  },
  "cells": [
    {
      "cell_type": "markdown",
      "metadata": {
        "id": "view-in-github",
        "colab_type": "text"
      },
      "source": [
        "<a href=\"https://colab.research.google.com/github/quemariox/LeetCode/blob/main/0263_ugly_number.ipynb\" target=\"_parent\"><img src=\"https://colab.research.google.com/assets/colab-badge.svg\" alt=\"Open In Colab\"/></a>"
      ]
    },
    {
      "cell_type": "markdown",
      "source": [
        "## Desciçaõ do problema"
      ],
      "metadata": {
        "id": "VdGQCTOLBPyV"
      }
    },
    {
      "cell_type": "markdown",
      "source": [
        "## Ugly Number\n",
        "\n",
        "\n",
        "An ugly number is a positive integer whose prime factors are limited to 2, 3, and 5.\n",
        "\n",
        "Given an integer n, return true if n is an ugly number.\n",
        "\n",
        "## Examples\n",
        "\n",
        "Example 1:\n",
        "\n",
        "Input: n = 6\n",
        "Output: true\n",
        "Explanation: 6 = 2 × 3\n",
        "\n",
        "Example 2:\n",
        "\n",
        "Input: n = 1\n",
        "Output: true\n",
        "Explanation: 1 has no prime factors, therefore all of its prime factors are limited to 2, 3, and 5.\n",
        "\n",
        "Example 3:\n",
        "\n",
        "Input: n = 14\n",
        "Output: false\n",
        "Explanation: 14 is not ugly since it includes the prime factor 7.\n",
        "\n",
        "## Constraints:\n",
        "\n",
        "    -231 <= n <= 231 - 1"
      ],
      "metadata": {
        "id": "ieW3MkwuBPqM"
      }
    },
    {
      "cell_type": "markdown",
      "source": [
        "# Solução"
      ],
      "metadata": {
        "id": "pLQB5D81Bdvi"
      }
    },
    {
      "cell_type": "code",
      "source": [
        "class Solution(object):\n",
        "    def isUgly(self, n):\n",
        "        \"\"\"\n",
        "        :type n: int\n",
        "        :rtype: bool\n",
        "        \"\"\"\n",
        "        #lista de divisores de n\n",
        "        div = [i for i in range(2, n//2 + 1) if n%i == 0]\n",
        "        #extraindo primos da lista de divisores\n",
        "        pri = [i for i in div] #criando uma cópia para não bagunçar os índices do loop\n",
        "        for j in div:\n",
        "            for k in div:\n",
        "                if k > j and k % j == 0 and k in pri:\n",
        "                    pri.remove(k)\n",
        "        #retorno caso seja um único primo > 5\n",
        "        if pri == []:\n",
        "            return False\n",
        "        #retorno nos outros casos\n",
        "        sobrou = [] #onde ficarão os primos diferentes de 2, 3 e 5, caso existam\n",
        "        for x in pri:\n",
        "            if x > 5:\n",
        "                sobrou.append(i)\n",
        "        if sobrou == []: #caso só existam os primos 2, 3 ou 5 na lista de primos\n",
        "            return True\n",
        "        else:\n",
        "            return False"
      ],
      "metadata": {
        "id": "8fv0PF4JVNHu"
      },
      "execution_count": null,
      "outputs": []
    },
    {
      "cell_type": "markdown",
      "source": [
        "# Esboço"
      ],
      "metadata": {
        "id": "cDgM68CKBfcK"
      }
    },
    {
      "cell_type": "code",
      "execution_count": null,
      "metadata": {
        "id": "DBbS0ez3BOuu"
      },
      "outputs": [],
      "source": [
        "# Gerando lista com os n primeiros primos\n",
        "\n",
        "#gerando um inteiro positivo >= 2\n",
        "import random\n",
        "n = random.randint(2,100)\n",
        "#n = 20\n",
        "\n",
        "#lista de divisores\n",
        "div = [i]\n",
        "for i in range(2, n//2 + 1):\n",
        "    if n%i == 0:\n",
        "        div.append(i)\n",
        "print('div',n,':', div)\n",
        "\n",
        "#extraindo primos da lista de divisores\n",
        "pri = [ x for x in div] #crie uma segunda lista contendo uma cópia da primeira, fazemos isso para não bagunçar o loop\n",
        "\n",
        "for j in div:\n",
        "    for k in div:\n",
        "        if (k>j) and (k%j) == 0 and (k in pri):\n",
        "            pri.remove(k)\n",
        "print('pri',n,':',pri)\n",
        "\n",
        "#verificando se a lista \"pri\" só contém 2,3 ou 5:\n",
        "if pri == []:\n",
        "    is_ugly = False\n",
        "\n",
        "sobrou = []\n",
        "for i in pri:\n",
        "    if i > 5:\n",
        "        sobrou.append(i)\n",
        "print(sobrou)\n",
        "\n",
        "if sobrou == []:\n",
        "    is_ugly = True\n",
        "else:\n",
        "    is_ugly = False\n",
        "\n",
        "print(is_ugly)"
      ]
    },
    {
      "cell_type": "code",
      "source": [
        "# quando não criamos uma cópia de div, o loop não funciona\n",
        "div = [2, 3, 4, 6, 9, 12, 18]\n",
        "for j in div:\n",
        "    print(f'j = {j} ; k = {k}')\n",
        "    print(div)\n",
        "    for k in div:\n",
        "        if k > j and k % j == 0 and k in pri:\n",
        "            print(f'j = {j} ; k = {k}')\n",
        "            pri.remove(k)\n",
        "            print(pri)\n",
        "    print('\\n')"
      ],
      "metadata": {
        "id": "oQmHOHJwKyqV"
      },
      "execution_count": null,
      "outputs": []
    },
    {
      "cell_type": "code",
      "source": [
        "#encontrando divisores usando list comprehension\n",
        "import random\n",
        "n = random.randint(2,100)\n",
        "\n",
        "div = [i for i in range(2, n//2 + 1) if n%i == 0 ]\n",
        "print(n,div)"
      ],
      "metadata": {
        "id": "0NPDSFhrVdwO"
      },
      "execution_count": null,
      "outputs": []
    },
    {
      "cell_type": "code",
      "source": [
        "# Solução mais fácil possível... não é minha...\n",
        "n = random.randint(2,100)\n",
        "\n",
        "if n <= 0:\n",
        "    print(False)\n",
        "while n % 2 == 0:\n",
        "    n = n // 2\n",
        "    print(n)\n",
        "while n % 3 == 0:\n",
        "    n = n // 3\n",
        "    print(n)\n",
        "while n % 5 == 0:\n",
        "    n = n // 5\n",
        "    print(n)\n",
        "print(n,n == 1)"
      ],
      "metadata": {
        "id": "iN9cuLtuZU4o"
      },
      "execution_count": null,
      "outputs": []
    }
  ]
}