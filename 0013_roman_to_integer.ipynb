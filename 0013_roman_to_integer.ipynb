{
  "nbformat": 4,
  "nbformat_minor": 0,
  "metadata": {
    "colab": {
      "private_outputs": true,
      "provenance": [],
      "authorship_tag": "ABX9TyNpwzxEIFQ29Ycv0rOJBj1A",
      "include_colab_link": true
    },
    "kernelspec": {
      "name": "python3",
      "display_name": "Python 3"
    },
    "language_info": {
      "name": "python"
    }
  },
  "cells": [
    {
      "cell_type": "markdown",
      "metadata": {
        "id": "view-in-github",
        "colab_type": "text"
      },
      "source": [
        "<a href=\"https://colab.research.google.com/github/quemariox/LeetCode/blob/main/0013_roman_to_integer.ipynb\" target=\"_parent\"><img src=\"https://colab.research.google.com/assets/colab-badge.svg\" alt=\"Open In Colab\"/></a>"
      ]
    },
    {
      "cell_type": "markdown",
      "source": [
        "# Descrição do problema"
      ],
      "metadata": {
        "id": "X46Tbwo2NRVU"
      }
    },
    {
      "cell_type": "markdown",
      "source": [
        "13. Roman to Integer\n",
        "Easy\n",
        "Topics\n",
        "Companies\n",
        "Hint\n",
        "\n",
        "Roman numerals are represented by seven different symbols: I, V, X, L, C, D and M.\n",
        "\n",
        "Symbol       Value\n",
        "I       =     1;\n",
        "V       =     5;\n",
        "X       =     10;\n",
        "L       =     50;\n",
        "C       =     100;\n",
        "D       =     500;\n",
        "M       =     1000\n",
        "\n",
        "For example, 2 is written as II in Roman numeral, just two ones added together. 12 is written as XII, which is simply X + II. The number 27 is written as XXVII, which is XX + V + II.\n",
        "\n",
        "Roman numerals are usually written largest to smallest from left to right. However, the numeral for four is not IIII. Instead, the number four is written as IV. Because the one is before the five we subtract it making four. The same principle applies to the number nine, which is written as IX. There are six instances where subtraction is used:\n",
        "\n",
        "    I can be placed before V (5) and X (10) to make 4 and 9.\n",
        "    X can be placed before L (50) and C (100) to make 40 and 90.\n",
        "    C can be placed before D (500) and M (1000) to make 400 and 900.\n",
        "\n",
        "Given a roman numeral, convert it to an integer.\n",
        "\n",
        "\n",
        "\n",
        "Example 1:\n",
        "\n",
        "Input: s = \"III\"\n",
        "Output: 3\n",
        "Explanation: III = 3.\n",
        "\n",
        "Example 2:\n",
        "\n",
        "Input: s = \"LVIII\"\n",
        "Output: 58\n",
        "Explanation: L = 50, V= 5, III = 3.\n",
        "\n",
        "Example 3:\n",
        "\n",
        "Input: s = \"MCMXCIV\"\n",
        "Output: 1994\n",
        "Explanation: M = 1000, CM = 900, XC = 90 and IV = 4.\n",
        "\n",
        "\n",
        "\n",
        "Constraints:\n",
        "\n",
        "    1 <= s.length <= 15\n",
        "    s contains only the characters ('I', 'V', 'X', 'L', 'C', 'D', 'M').\n",
        "    It is guaranteed that s is a valid roman numeral in the range [1, 3999].\n",
        "\n"
      ],
      "metadata": {
        "id": "hRDV_BQvNUFf"
      }
    },
    {
      "cell_type": "code",
      "execution_count": null,
      "metadata": {
        "id": "Jr7N8nqmNOLM"
      },
      "outputs": [],
      "source": [
        "class Solution(object):\n",
        "    def romanToInt(self, s):\n",
        "        \"\"\"\n",
        "        :type s: str\n",
        "        :rtype: int\n",
        "        \"\"\"\n",
        ""
      ]
    },
    {
      "cell_type": "code",
      "source": [
        "s = 'MCMXCIV'\n",
        "\n",
        "s_list = [str(x) for x in s.upper()]\n",
        "print(s_list)\n",
        "\n",
        "roman = ['I', 'V', 'X', 'L', 'C', 'D', 'M']\n",
        "decimal = [1, 5, 10, 50, 100, 500, 1000]\n",
        "\n",
        "dict_subst = {roman[i]:decimal[i] }\n",
        "\n",
        "for x in range(len(s_list)):\n",
        "  if s_list[x] == 'I':\n",
        "    s_list[x] = 1\n",
        "  if s_list[x] == 'V':\n",
        "    s_list[x] = 5\n",
        "  if s_list[x] == 'X':\n",
        "    s_list[x] = 10\n",
        "  if s_list[x] == 'L':\n",
        "    s_list[x] = 50\n",
        "  if s_list[x] == 'C':\n",
        "    s_list[x] = 100\n",
        "  if s_list[x] == 'D':\n",
        "    s_list[x] = 500\n",
        "  if s_list[x] == 'M':\n",
        "    s_list[x] = 1000\n",
        "\n",
        "print((s_list))\n"
      ],
      "metadata": {
        "id": "kS2ree1ZN16d"
      },
      "execution_count": null,
      "outputs": []
    },
    {
      "cell_type": "code",
      "source": [
        "s = 'MCMXCIV'\n",
        "\n",
        "s_list = [str(x) for x in s.upper()]\n",
        "print(s_list)\n",
        "\n",
        "roman = ['I', 'V', 'X', 'L', 'C', 'D', 'M']\n",
        "decimal = [1, 5, 10, 50, 100, 500, 1000]\n",
        "dict_subst = {roman[i]:decimal[i] for i in range(len(roman))}\n",
        "\n",
        "s_list = [dict_subst.get(x, x) for x in s_list] #para cada x na lista, verificamos se existe uma substituição no dicionário mapeado\n",
        "print(s_list)\n",
        "\n",
        "for i in range(len(s_list)-1):\n",
        "  if s_list[i] < s_list[i + 1]:\n",
        "    s_list[i+1] = s_list[i + 1] - s_list[i]\n",
        "    s_list[i] = 0\n",
        "print(sum(s_list))"
      ],
      "metadata": {
        "id": "hi4Z5lpYQ_Mq"
      },
      "execution_count": null,
      "outputs": []
    },
    {
      "cell_type": "code",
      "source": [],
      "metadata": {
        "id": "nUQUXvcwQ_Lg"
      },
      "execution_count": null,
      "outputs": []
    }
  ]
}