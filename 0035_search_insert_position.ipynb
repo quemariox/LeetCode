{
  "nbformat": 4,
  "nbformat_minor": 0,
  "metadata": {
    "colab": {
      "private_outputs": true,
      "provenance": [],
      "authorship_tag": "ABX9TyOdMwx/btQjMM9Bms2NMJd7",
      "include_colab_link": true
    },
    "kernelspec": {
      "name": "python3",
      "display_name": "Python 3"
    },
    "language_info": {
      "name": "python"
    }
  },
  "cells": [
    {
      "cell_type": "markdown",
      "metadata": {
        "id": "view-in-github",
        "colab_type": "text"
      },
      "source": [
        "<a href=\"https://colab.research.google.com/github/quemariox/LeetCode/blob/main/0035_search_insert_position.ipynb\" target=\"_parent\"><img src=\"https://colab.research.google.com/assets/colab-badge.svg\" alt=\"Open In Colab\"/></a>"
      ]
    },
    {
      "cell_type": "markdown",
      "source": [
        "##  Descrição do problema"
      ],
      "metadata": {
        "id": "j2j0b036QKN8"
      }
    },
    {
      "cell_type": "markdown",
      "source": [
        "## Search Insert Position\n",
        "\n",
        "\n",
        "Given a sorted array of distinct integers and a target value, return the index if the target is found. If not, return the index where it would be if it were inserted in order.\n",
        "\n",
        "You must write an algorithm with O(log n) runtime complexity.\n",
        "\n",
        "## Examples:\n",
        "\n",
        "Example 1:\n",
        "\n",
        "Input: nums = [1,3,5,6], target = 5\n",
        "Output: 2\n",
        "\n",
        "Example 2:\n",
        "\n",
        "Input: nums = [1,3,5,6], target = 2\n",
        "Output: 1\n",
        "\n",
        "Example 3:\n",
        "\n",
        "Input: nums = [1,3,5,6], target = 7\n",
        "Output: 4\n",
        "\n",
        "##Constraints:\n",
        "\n",
        "    1 <= nums.length <= 104\n",
        "    -104 <= nums[i] <= 104\n",
        "    nums contains distinct values sorted in ascending order.\n",
        "    -104 <= target <= 104"
      ],
      "metadata": {
        "id": "FNm-_9p6QMxn"
      }
    },
    {
      "cell_type": "markdown",
      "source": [
        "## Solução"
      ],
      "metadata": {
        "id": "jTfr7_u_Tmfi"
      }
    },
    {
      "cell_type": "code",
      "source": [
        "class Solution(object):\n",
        "    def searchInsert(self, nums, target):\n",
        "        \"\"\"\n",
        "        :type nums: List[int]\n",
        "        :type target: int\n",
        "        :rtype: int\n",
        "        \"\"\"\n",
        "        for i in range(len(nums)):\n",
        "            if nums[i] >= target:\n",
        "                return i\n",
        "                break\n",
        "\n",
        "        return len(nums)"
      ],
      "metadata": {
        "id": "24PqYV8KS4Pl"
      },
      "execution_count": null,
      "outputs": []
    },
    {
      "cell_type": "code",
      "source": [
        "solution = Solution()\n",
        "nums = [1,3,5,6]\n",
        "target = 7\n",
        "retorno = solution.searchInsert(nums,target)\n",
        "print(retorno)"
      ],
      "metadata": {
        "id": "C6A08x-PTrZs"
      },
      "execution_count": null,
      "outputs": []
    },
    {
      "cell_type": "markdown",
      "source": [
        "## Esboço"
      ],
      "metadata": {
        "id": "Ls9j1rqeS43f"
      }
    },
    {
      "cell_type": "code",
      "execution_count": null,
      "metadata": {
        "id": "AYfiduT7QJS9"
      },
      "outputs": [],
      "source": [
        "nums = [1,3,5,6]\n",
        "\n",
        "target = 3 #esta na lista, na posição 1\n",
        "target = 2 #não está na lista, se estivesse seria na posição 1\n",
        "target = 9 #é maior que todos na lista, se estivesse  estaria na última posição\n",
        "\n",
        "for i in range(len(nums)):\n",
        "    if nums[i] == target: #quando chegamos oupassamos ao alvo paramos o loop\n",
        "        index = i\n",
        "        break\n",
        "    if nums[i] > target: #se pasarmos do alvo paramos o loop\n",
        "        index = i\n",
        "        break\n",
        "    else:\n",
        "        index = len(nums) #caso o target não esteja na lista\n",
        "\n",
        "print(index)"
      ]
    }
  ]
}