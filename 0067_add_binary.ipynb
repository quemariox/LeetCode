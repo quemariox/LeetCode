{
  "nbformat": 4,
  "nbformat_minor": 0,
  "metadata": {
    "colab": {
      "private_outputs": true,
      "provenance": [],
      "authorship_tag": "ABX9TyM8CJL/E4v+Kd9+4x1eIk8S",
      "include_colab_link": true
    },
    "kernelspec": {
      "name": "python3",
      "display_name": "Python 3"
    },
    "language_info": {
      "name": "python"
    }
  },
  "cells": [
    {
      "cell_type": "markdown",
      "metadata": {
        "id": "view-in-github",
        "colab_type": "text"
      },
      "source": [
        "<a href=\"https://colab.research.google.com/github/quemariox/LeetCode/blob/main/0067_add_binary.ipynb\" target=\"_parent\"><img src=\"https://colab.research.google.com/assets/colab-badge.svg\" alt=\"Open In Colab\"/></a>"
      ]
    },
    {
      "cell_type": "markdown",
      "source": [
        "# Descrição do problema"
      ],
      "metadata": {
        "id": "eSHiGrNZ1x8u"
      }
    },
    {
      "cell_type": "markdown",
      "source": [
        "## Add Binary\n",
        "Easy\n",
        "Topics\n",
        "Companies\n",
        "\n",
        "Given two binary strings a and b, return their sum as a binary string.\n",
        "\n",
        "## Examples:\n",
        "\n",
        "Example 1:\n",
        "\n",
        "Input: a = \"11\", b = \"1\"\n",
        "Output: \"100\"\n",
        "\n",
        "Example 2:\n",
        "\n",
        "Input: a = \"1010\", b = \"1011\"\n",
        "Output: \"10101\"\n",
        "\n",
        "## Constraints:\n",
        "\n",
        "    1 <= a.length, b.length <= 104\n",
        "    a and b consist only of '0' or '1' characters.\n",
        "    Each string does not contain leading zeros except for the zero itself."
      ],
      "metadata": {
        "id": "yaJVNYMy1z8k"
      }
    },
    {
      "cell_type": "markdown",
      "source": [
        "# Solução"
      ],
      "metadata": {
        "id": "z3GSJ3c42Aqy"
      }
    },
    {
      "cell_type": "code",
      "source": [
        "class Solution(object):\n",
        "    def addBinary(self, a, b):\n",
        "        \"\"\"\n",
        "        :type a: str\n",
        "        :type b: str\n",
        "        :rtype: str\n",
        "        \"\"\"\n",
        "        #str --> list\n",
        "        a = [int(digit) for digit in a]\n",
        "        b = [int(digit) for digit in b]\n",
        "\n",
        "        #dimensionando as listas\n",
        "        if len(a) >= len(b):\n",
        "            n = len(a)\n",
        "            a = [0]*1 + a\n",
        "            b = [0]*(1 + n - len(b)) + b\n",
        "        else:\n",
        "            n = len(b)\n",
        "            a = [0]*(1 + n - len(a)) + a\n",
        "            b = [0]*1 + b\n",
        "\n",
        "        #soma\n",
        "        sum = [0]*(n + 1)\n",
        "\n",
        "        #carregador \"vai 1...\"\n",
        "        carry = 0\n",
        "\n",
        "        #loop principal\n",
        "        for i in range(n, -1, -1):\n",
        "\n",
        "            sum[i] = a[i] + b[i] + carry #soma\n",
        "\n",
        "            if sum[i] == 2: # dec(2) = bin(10)\n",
        "                carry = 1 #passa pra próxima coluna \"vai 1\"\n",
        "                sum[i] = 0 #fica: bin(01 + 01) = bin(10)\n",
        "            elif sum[i] == 3:\n",
        "                carry = 1 #passa pra próxima coluna \"vai 1\"\n",
        "                sum[i] = 1 #fica: bin(01 + 01 + 01) = bin(11)\n",
        "            else:\n",
        "                carry = 0 #é preciso esvaziar o carry\n",
        "\n",
        "        #eliminando os zeros à esquerda\n",
        "        while sum[0] == 0:\n",
        "            sum.remove(0)\n",
        "            if len(sum) == 1: #caso a soma de zero, output: [0]\n",
        "                break\n",
        "\n",
        "        #list --> str\n",
        "        sum_str = ''\n",
        "        for digit in sum:\n",
        "            sum_str += str(digit)\n",
        "\n",
        "        return sum_str"
      ],
      "metadata": {
        "id": "plV7z1hg2Cmu"
      },
      "execution_count": null,
      "outputs": []
    },
    {
      "cell_type": "markdown",
      "source": [
        "# Esboço"
      ],
      "metadata": {
        "id": "umoi6IVd1xwH"
      }
    },
    {
      "cell_type": "code",
      "source": [
        "# Type casting\n",
        "\n",
        "# str --> list\n",
        "a = '000000'\n",
        "a_list = [int(digit) for digit in a]\n",
        "print(a_list)\n",
        "\n",
        "while a_list[0] == 0:\n",
        "    a_list.remove(0)\n",
        "    if len(a_list) == 1:\n",
        "        break\n",
        "print(a_list)\n",
        "\n",
        "# list --> str\n",
        "a_str = ''\n",
        "for digit in a_list:\n",
        "    a_str += str(digit)\n",
        "print(a_str)"
      ],
      "metadata": {
        "id": "Ex3mshYB4kJ_"
      },
      "execution_count": null,
      "outputs": []
    },
    {
      "cell_type": "code",
      "execution_count": null,
      "metadata": {
        "id": "RpxPhW6tsmRd"
      },
      "outputs": [],
      "source": [
        "# Soma decimal\n",
        "\n",
        "a = [1,2,3]\n",
        "b = [0,8,9,4,6,7]\n",
        "\n",
        "if len(a) >= len(b):\n",
        "    n = len(a)\n",
        "    a = [0] + a\n",
        "    b = [0]*(n - len(b) + 1) + b\n",
        "else:\n",
        "    n = len(b)\n",
        "    a = [0]*(n + 1 - len(a)) + a\n",
        "    b = [0] + b\n",
        "\n",
        "sum = [0]*(n + 1)\n",
        "print(a,b,sum)\n",
        "carry = 0\n",
        "for i in range(n, -1, -1):\n",
        "    sum[i] = a[i] + b[i] + carry\n",
        "    if sum[i] >= 10:\n",
        "        carry = 1 #to the left\n",
        "        sum[i] -= 10 #stays\n",
        "    else:\n",
        "        carry = 0\n",
        "print(sum)"
      ]
    },
    {
      "cell_type": "code",
      "source": [
        "# Soma binária\n",
        "\n",
        "a = [0]\n",
        "b = [0]\n",
        "\n",
        "if len(a) >= len(b):\n",
        "    n = len(a)\n",
        "    a = [0] + a\n",
        "    b = [0]*(n - len(b) + 1) + b\n",
        "else:\n",
        "    n = len(b)\n",
        "    a = [0]*(n + 1 - len(a)) + a\n",
        "    b = [0] + b\n",
        "\n",
        "sum = [0]*(n + 1)\n",
        "\n",
        "for i in range(n ,-1,-1):\n",
        "    sum[i] = a[i] + b[i] + carry\n",
        "    print(sum[i],'=',a[i],'+',b[i])\n",
        "    if sum[i] == 2:\n",
        "        carry = 1\n",
        "        sum[i] = 0\n",
        "    else:\n",
        "        carry = 0\n",
        "print(a)\n",
        "print(b)\n",
        "print(sum)"
      ],
      "metadata": {
        "id": "aNQ1gZcPxc7w"
      },
      "execution_count": null,
      "outputs": []
    }
  ]
}