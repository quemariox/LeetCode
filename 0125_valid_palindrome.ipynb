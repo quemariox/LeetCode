{
  "nbformat": 4,
  "nbformat_minor": 0,
  "metadata": {
    "colab": {
      "private_outputs": true,
      "provenance": [],
      "authorship_tag": "ABX9TyOHdV0ikM+F3pN0AuXaUenM",
      "include_colab_link": true
    },
    "kernelspec": {
      "name": "python3",
      "display_name": "Python 3"
    },
    "language_info": {
      "name": "python"
    }
  },
  "cells": [
    {
      "cell_type": "markdown",
      "metadata": {
        "id": "view-in-github",
        "colab_type": "text"
      },
      "source": [
        "<a href=\"https://colab.research.google.com/github/quemariox/LeetCode/blob/main/0125_valid_palindrome.ipynb\" target=\"_parent\"><img src=\"https://colab.research.google.com/assets/colab-badge.svg\" alt=\"Open In Colab\"/></a>"
      ]
    },
    {
      "cell_type": "markdown",
      "source": [
        "# Descrição do problema"
      ],
      "metadata": {
        "id": "sIqLqPogbGtb"
      }
    },
    {
      "cell_type": "markdown",
      "source": [
        "## Valid Palindrome\n",
        "\n",
        "A phrase is a palindrome if, after converting all uppercase letters into lowercase letters and removing all non-alphanumeric characters, it reads the same forward and backward. Alphanumeric characters include letters and numbers.\n",
        "\n",
        "Given a string s, return true if it is a palindrome, or false otherwise.\n",
        "\n",
        "## Examples:\n",
        "\n",
        "Example 1:\n",
        "\n",
        "Input: s = \"A man, a plan, a canal: Panama\"\n",
        "Output: true\n",
        "Explanation: \"amanaplanacanalpanama\" is a palindrome.\n",
        "\n",
        "Example 2:\n",
        "\n",
        "Input: s = \"race a car\"\n",
        "Output: false\n",
        "Explanation: \"raceacar\" is not a palindrome.\n",
        "\n",
        "Example 3:\n",
        "\n",
        "Input: s = \" \"\n",
        "Output: true\n",
        "Explanation: s is an empty string \"\" after removing non-alphanumeric characters.\n",
        "Since an empty string reads the same forward and backward, it is a palindrome.\n",
        "\n",
        "## Constraints:\n",
        "\n",
        "    1 <= s.length <= 2 * 105\n",
        "    s consists only of printable ASCII characters."
      ],
      "metadata": {
        "id": "TyrSKnhYbGX-"
      }
    },
    {
      "cell_type": "markdown",
      "source": [
        "# Solução"
      ],
      "metadata": {
        "id": "2OoJFj2ZbDc0"
      }
    },
    {
      "cell_type": "code",
      "source": [
        "class Solution(object):\n",
        "    def isPalindrome(self, s):\n",
        "        \"\"\"\n",
        "        :type s: str\n",
        "        :rtype: bool\n",
        "        \"\"\"\n",
        "        s = s.replace('.','').replace(',','').replace(':','').replace(' ','')\n",
        "        s = s.replace('!','').replace('@','').replace('*','').replace('#','')\n",
        "        s = s.replace('_','').replace('&','').replace('%','').replace('$','')\n",
        "        s = s.replace('/','').replace('\\ ','').replace('{','').replace('}','')\n",
        "        s = s.replace('[','').replace(']','').replace('(','').replace(')','')\n",
        "        s = s.replace('\"','').replace(\"'\",'').replace('=','').replace('-','')\n",
        "        s = s.replace('+','').replace('?','').replace(';','').replace('\\\\','')\n",
        "        s = s.replace('`','')#.replace(\"´\",'').replace('^','').replace('~','')\n",
        "\n",
        "        s = s.lower()\n",
        "\n",
        "        is_palindrome = True\n",
        "        for i in range(len(s)):\n",
        "            if s[i] != s[len(s)-1-i]:\n",
        "                print(s[i])\n",
        "                is_palindrome = False\n",
        "        return is_palindrome\n",
        ""
      ],
      "metadata": {
        "id": "z7vl6-lMbCOB"
      },
      "execution_count": null,
      "outputs": []
    },
    {
      "cell_type": "markdown",
      "source": [
        "# Esboço"
      ],
      "metadata": {
        "id": "wvqI8Vs8a9gr"
      }
    },
    {
      "cell_type": "code",
      "execution_count": null,
      "metadata": {
        "id": "t5p0jfkrQzBP"
      },
      "outputs": [],
      "source": [
        "s = \"A man, a plan, a canal: Panama\"\n",
        "s = 'a.'\n",
        "s = s.replace(',','').replace('.','').replace(':','').replace(' ','')\n",
        "s = s.lower()\n",
        "print(s)\n",
        "\n",
        "is_palindrome = True\n",
        "for i in range(len(s)):\n",
        "    if s[i] != s[len(s)-1-i]:\n",
        "        print(s[i])\n",
        "        is_palindrome = False"
      ]
    },
    {
      "cell_type": "code",
      "source": [
        "s = \"`l;`` 1o1 ??;l`\"\n",
        "s = s.replace('`','')\n",
        "print(s)\n",
        "\n"
      ],
      "metadata": {
        "id": "UTtkSEfhWe93"
      },
      "execution_count": null,
      "outputs": []
    }
  ]
}