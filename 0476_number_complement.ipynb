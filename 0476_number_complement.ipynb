{
  "nbformat": 4,
  "nbformat_minor": 0,
  "metadata": {
    "colab": {
      "private_outputs": true,
      "provenance": [],
      "authorship_tag": "ABX9TyM6PbkroWgQ+A6g365qOyTD",
      "include_colab_link": true
    },
    "kernelspec": {
      "name": "python3",
      "display_name": "Python 3"
    },
    "language_info": {
      "name": "python"
    }
  },
  "cells": [
    {
      "cell_type": "markdown",
      "metadata": {
        "id": "view-in-github",
        "colab_type": "text"
      },
      "source": [
        "<a href=\"https://colab.research.google.com/github/quemariox/LeetCode/blob/main/0476_number_complement.ipynb\" target=\"_parent\"><img src=\"https://colab.research.google.com/assets/colab-badge.svg\" alt=\"Open In Colab\"/></a>"
      ]
    },
    {
      "cell_type": "markdown",
      "source": [
        "# Descrição do problema"
      ],
      "metadata": {
        "id": "VRZjzpoY6XJj"
      }
    },
    {
      "cell_type": "markdown",
      "source": [
        "## Number Complement\n",
        "\n",
        "The complement of an integer is the integer you get when you flip all the 0's to 1's and all the 1's to 0's in its binary representation.\n",
        "\n",
        "    For example, The integer 5 is \"101\" in binary and its complement is \"010\" which is the integer 2.\n",
        "\n",
        "Given an integer num, return its complement.\n",
        "\n",
        "## Examples:\n",
        "\n",
        "Example 1:\n",
        "\n",
        "Input: num = 5\n",
        "Output: 2\n",
        "Explanation: The binary representation of 5 is 101 (no leading zero bits), and its complement is 010. So you need to output 2.\n",
        "\n",
        "Example 2:\n",
        "\n",
        "Input: num = 1\n",
        "Output: 0\n",
        "Explanation: The binary representation of 1 is 1 (no leading zero bits), and its complement is 0. So you need to output 0.\n",
        "\n",
        "## Constraints:\n",
        "\n",
        "    1 <= num < 231\n",
        "\n",
        "Note: This question is the same as 1009: https://leetcode.com/problems/complement-of-base-10-integer/"
      ],
      "metadata": {
        "id": "yd1sXhX16aP1"
      }
    },
    {
      "cell_type": "markdown",
      "source": [
        "# Solução"
      ],
      "metadata": {
        "id": "hBvTxl_i5bo8"
      }
    },
    {
      "cell_type": "code",
      "source": [
        "class Solution(object):\n",
        "    def findComplement(self, num):\n",
        "        \"\"\"\n",
        "        :type num: int\n",
        "        :rtype: int\n",
        "        \"\"\"\n",
        "        bin_inv = [(num//(2**i))%2 for i in range(num.bit_length())]\n",
        "        bin_dir = [bin_inv[-1-i] for i in range(len(bin_inv))]\n",
        "\n",
        "        bin_comp = []\n",
        "        for i in bin_dir:\n",
        "            if i == 1:\n",
        "                bin_comp.append(0)\n",
        "            else:\n",
        "                bin_comp.append(1)\n",
        "\n",
        "        int_comp = 0\n",
        "\n",
        "        for j in range(len(bin_comp)):\n",
        "            int_comp += bin_comp[-1-j]*(2**j)\n",
        "\n",
        "        return int_comp"
      ],
      "metadata": {
        "id": "9fGdEhFm6Tfz"
      },
      "execution_count": null,
      "outputs": []
    },
    {
      "cell_type": "markdown",
      "source": [
        "# Esboço"
      ],
      "metadata": {
        "id": "K0VZhrOd5Zz-"
      }
    },
    {
      "cell_type": "code",
      "execution_count": null,
      "metadata": {
        "id": "2mz5eve7dCtu"
      },
      "outputs": [],
      "source": [
        "num = 5\n",
        "\n",
        "#decimal --> binário (invertido)\n",
        "bit_inv = [(num // (2**i)) % 2 for i in range(num.bit_length())]\n",
        "print(bit_inv)\n",
        "\n",
        "#ordenando o binário (direto)\n",
        "bit_dir = [bit_inv[-1-i] for i in range(len(bit_inv))]\n",
        "print(bit_dir)\n",
        "\n",
        "#complementar do binário (direto)\n",
        "bit_comp = []\n",
        "for i in bit_dir:\n",
        "    if i == 0:\n",
        "        bit_comp.append(1)\n",
        "    else:\n",
        "        bit_comp.append(0)\n",
        "print(bit_comp)\n",
        "\n",
        "#binário (direto) --> inteiro\n",
        "int_comp = 0\n",
        "for j in range(len(bit_comp)):\n",
        "    int_comp += bit_comp[-1-j]*(2**j)\n",
        "print(int_comp)"
      ]
    },
    {
      "cell_type": "markdown",
      "source": [],
      "metadata": {
        "id": "UL0NYaAMqU2-"
      }
    }
  ]
}