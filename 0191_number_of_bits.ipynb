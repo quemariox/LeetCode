{
  "nbformat": 4,
  "nbformat_minor": 0,
  "metadata": {
    "colab": {
      "private_outputs": true,
      "provenance": [],
      "authorship_tag": "ABX9TyOV1pk7z7teMrEKPJxH5lZl",
      "include_colab_link": true
    },
    "kernelspec": {
      "name": "python3",
      "display_name": "Python 3"
    },
    "language_info": {
      "name": "python"
    }
  },
  "cells": [
    {
      "cell_type": "markdown",
      "metadata": {
        "id": "view-in-github",
        "colab_type": "text"
      },
      "source": [
        "<a href=\"https://colab.research.google.com/github/quemariox/LeetCode/blob/main/0191_number_of_bits.ipynb\" target=\"_parent\"><img src=\"https://colab.research.google.com/assets/colab-badge.svg\" alt=\"Open In Colab\"/></a>"
      ]
    },
    {
      "cell_type": "markdown",
      "source": [
        "# Descrição do problema"
      ],
      "metadata": {
        "id": "TS1OA6NFzg_5"
      }
    },
    {
      "cell_type": "markdown",
      "source": [
        "## Number of 1 Bits\n",
        "\n",
        "Write a function that takes the binary representation of a positive integer and returns the number of\n",
        "set bits\n",
        "it has (also known as the Hamming weight).\n",
        "\n",
        "## Examples:\n",
        "\n",
        "Example 1:\n",
        "\n",
        "Input: n = 11\n",
        "\n",
        "Output: 3\n",
        "\n",
        "Explanation:\n",
        "\n",
        "The input binary string 1011 has a total of three set bits.\n",
        "\n",
        "Example 2:\n",
        "\n",
        "Input: n = 128\n",
        "\n",
        "Output: 1\n",
        "\n",
        "Explanation:\n",
        "\n",
        "The input binary string 10000000 has a total of one set bit.\n",
        "\n",
        "Example 3:\n",
        "\n",
        "Input: n = 2147483645\n",
        "\n",
        "Output: 30\n",
        "\n",
        "Explanation:\n",
        "\n",
        "The input binary string 1111111111111111111111111111101 has a total of thirty set bits.\n",
        "\n",
        "## Constraints:\n",
        "\n",
        "    1 <= n <= 231 - 1\n",
        "\n",
        "Follow up: If this function is called many times, how would you optimize it?"
      ],
      "metadata": {
        "id": "5B3pzol3zg15"
      }
    },
    {
      "cell_type": "markdown",
      "source": [
        "# Solução"
      ],
      "metadata": {
        "id": "XVh1SPg6y5i8"
      }
    },
    {
      "cell_type": "code",
      "execution_count": null,
      "metadata": {
        "id": "VEhYRycky3hG"
      },
      "outputs": [],
      "source": [
        "class Solution(object):\n",
        "    def hammingWeight(self, n):\n",
        "        \"\"\"\n",
        "        :type n: int\n",
        "        :rtype: int\n",
        "        \"\"\"\n",
        "        bin_inv = [(n//2**i)%2 for i in range(n.bit_length())]\n",
        "        #bin_dir = [bin_inv[-1-i] for i in range(len(bin_inv))]\n",
        "        hamming_weight = 0\n",
        "        for j in bin_inv:\n",
        "            if j == 1:\n",
        "                hamming_weight += 1\n",
        "        return hamming_weight"
      ]
    },
    {
      "cell_type": "markdown",
      "source": [
        "# Esboço"
      ],
      "metadata": {
        "id": "QidjOX9Dy8Kn"
      }
    },
    {
      "cell_type": "code",
      "source": [
        "n = 35\n",
        "\n",
        "bin_inv = [(n // (2**i)) % 2 for i in range(n.bit_length())]\n",
        "bin_dir = [bin_inv[-1-i] for i in range(len(bin_inv))]\n",
        "\n",
        "hamming_weight = 0\n",
        "for i in bin_dir:\n",
        "    if i == 1:\n",
        "        hamming_weight += 1\n",
        "\n",
        "print(f' n = {n} \\n bin_inv = {bin_inv} \\n bin_dir = {bin_dir} \\n hamming_weight = {hamming_weight}')"
      ],
      "metadata": {
        "id": "pAgovey-y9ye"
      },
      "execution_count": null,
      "outputs": []
    }
  ]
}