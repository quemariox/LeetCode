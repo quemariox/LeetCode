{
  "nbformat": 4,
  "nbformat_minor": 0,
  "metadata": {
    "colab": {
      "private_outputs": true,
      "provenance": [],
      "authorship_tag": "ABX9TyPievTVqYXF7C7p8CSDVcwH",
      "include_colab_link": true
    },
    "kernelspec": {
      "name": "python3",
      "display_name": "Python 3"
    },
    "language_info": {
      "name": "python"
    }
  },
  "cells": [
    {
      "cell_type": "markdown",
      "metadata": {
        "id": "view-in-github",
        "colab_type": "text"
      },
      "source": [
        "<a href=\"https://colab.research.google.com/github/quemariox/LeetCode/blob/main/14_longest_common_prefix.ipynb\" target=\"_parent\"><img src=\"https://colab.research.google.com/assets/colab-badge.svg\" alt=\"Open In Colab\"/></a>"
      ]
    },
    {
      "cell_type": "markdown",
      "source": [
        "# Descrição do problema"
      ],
      "metadata": {
        "id": "aT1EDOvuqeCm"
      }
    },
    {
      "cell_type": "markdown",
      "source": [
        "## Longest Common Prefix\n",
        "\n",
        "Write a function to find the longest common prefix string amongst an array of strings.\n",
        "\n",
        "If there is no common prefix, return an empty string \"\".\n",
        "\n",
        "## Examples:\n",
        "\n",
        "Example 1:\n",
        "\n",
        "Input: strs = [\"flower\",\"flow\",\"flight\"]\n",
        "Output: \"fl\"\n",
        "\n",
        "Example 2:\n",
        "\n",
        "Input: strs = [\"dog\",\"racecar\",\"car\"]\n",
        "Output: \"\"\n",
        "Explanation: There is no common prefix among the input strings.\n",
        "\n",
        "## Constraints:\n",
        "\n",
        "    1 <= strs.length <= 200\n",
        "    0 <= strs[i].length <= 200\n",
        "    strs[i] consists of only lowercase English letters."
      ],
      "metadata": {
        "id": "kw9nqtHdqilE"
      }
    },
    {
      "cell_type": "markdown",
      "source": [
        "# Solução"
      ],
      "metadata": {
        "id": "gu48MMPk6fvw"
      }
    },
    {
      "cell_type": "code",
      "source": [
        "class Solution(object):\n",
        "  def longestCommonPrefix(self, strs):\n",
        "    \"\"\"\n",
        "    :type strs: List[str]\n",
        "    :rtype: str\n",
        "    \"\"\"\n",
        "# input: strs = [\"flower\",\"flow\",\"flight\"]\n",
        "\n",
        "    # Cria lista de palavras onde cada palavra é uma lista de letras:\n",
        "    strs = [[letter.lower() for letter in word] for word in strs]\n",
        "# output: [['f', 'l', 'o', 'w', 'e', 'r'], ['f', 'l', 'o', 'w'], ['f', 'l', 'i', 'g', 'h', 't']]\n",
        "\n",
        "    # Encontra o tamanho da menor palavra:\n",
        "    shortest_len = min([len(word) for word in strs])\n",
        "# output: 4 (que é o tamanho da menor palavra, isso economiza tempo)\n",
        "\n",
        "    # Cria uma lista de listas, onde cada sublista contém os caracteres que estão na mesma posição em cada string de strs.\n",
        "    letters_by_position_list = [[strs[i][j] for i in range(len(strs))] for j in range(shortest_len)]\n",
        "# output: [['f', 'f', 'f'], ['l', 'l', 'l'], ['o', 'o', 'i'], ['w', 'w', 'g']]\n",
        "\n",
        "    prefixo = [] #lista para salvar o prefixo\n",
        "\n",
        "    # Loop principal:\n",
        "    for letra in letters_by_position_list:\n",
        "\n",
        "    # se todas em todas as palavras as letras em uma mesma posição forem iguais\n",
        "        if letra.count(letra[0]) == len(letra):\n",
        "            prefixo.append(letra[0]) #então essa letra vai para a lista de\n",
        "\n",
        "    # caso contrário,saimos do loop, pois não teremos mais um prefixo comum\n",
        "        else:\n",
        "            print(\"\")\n",
        "            break\n",
        "\n",
        "    prefixo_str = \"\".join(prefixo)\n",
        "\n",
        "    return prefixo_str"
      ],
      "metadata": {
        "id": "3OOWgcMl6hVP"
      },
      "execution_count": null,
      "outputs": []
    },
    {
      "cell_type": "markdown",
      "source": [
        "# Esboço"
      ],
      "metadata": {
        "id": "G4d-jOg-rMKa"
      }
    },
    {
      "cell_type": "code",
      "source": [
        "# Lista de testes:\n",
        "strs = [\"flower\",\"flow\",\"flight\"]\n",
        "#strs = [\"dog\",\"racecar\",\"car\"]\n",
        "#strs = [\"a\"]\n",
        "#strs = [\"ab\",\"a\"]\n",
        "\n",
        "strs = [[letra.lower() for letra in palavra] for palavra in strs]\n",
        "print(strs)\n",
        "\n",
        "menor_len = min([len(strs[i]) for i in range(len(strs))])\n",
        "print(menor_len)\n",
        "\n",
        "letra_por_posicao = [[strs[i][j] for i in range(len(strs))] for j in range(menor_len)]\n",
        "print(letra_por_posicao)\n",
        "\n",
        "prefixo = []\n",
        "for letra in letra_por_posicao:\n",
        "    if letra.count(letra[0]) == len(letra):\n",
        "        prefixo.append(letra[0])\n",
        "    else:\n",
        "        print(\"\")\n",
        "        break\n",
        "prefixo_str = \"\".join(prefixo)\n",
        "print(prefixo_str)"
      ],
      "metadata": {
        "id": "uWFRvz1vqda8"
      },
      "execution_count": null,
      "outputs": []
    }
  ]
}