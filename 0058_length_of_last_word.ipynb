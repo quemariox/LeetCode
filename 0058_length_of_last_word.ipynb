{
  "nbformat": 4,
  "nbformat_minor": 0,
  "metadata": {
    "colab": {
      "private_outputs": true,
      "provenance": [],
      "authorship_tag": "ABX9TyPstrG0QjPnkaSQxjSSaSd7",
      "include_colab_link": true
    },
    "kernelspec": {
      "name": "python3",
      "display_name": "Python 3"
    },
    "language_info": {
      "name": "python"
    }
  },
  "cells": [
    {
      "cell_type": "markdown",
      "metadata": {
        "id": "view-in-github",
        "colab_type": "text"
      },
      "source": [
        "<a href=\"https://colab.research.google.com/github/quemariox/LeetCode/blob/main/0058_length_of_last_word.ipynb\" target=\"_parent\"><img src=\"https://colab.research.google.com/assets/colab-badge.svg\" alt=\"Open In Colab\"/></a>"
      ]
    },
    {
      "cell_type": "markdown",
      "source": [
        "## Descrição do problema"
      ],
      "metadata": {
        "id": "NRIEMXvWYHfl"
      }
    },
    {
      "cell_type": "markdown",
      "source": [
        "## Length of Last Word\n",
        "\n",
        "Given a string s consisting of words and spaces, return the length of the last word in the string.\n",
        "\n",
        "A word is a maximal\n",
        "substring\n",
        "consisting of non-space characters only.\n",
        "\n",
        "## Examples:\n",
        "\n",
        "Example 1:\n",
        "\n",
        "Input: s = \"Hello World\"\n",
        "Output: 5\n",
        "Explanation: The last word is \"World\" with length 5.\n",
        "\n",
        "Example 2:\n",
        "\n",
        "Input: s = \"   fly me   to   the moon  \"\n",
        "Output: 4\n",
        "Explanation: The last word is \"moon\" with length 4.\n",
        "\n",
        "Example 3:\n",
        "\n",
        "Input: s = \"luffy is still joyboy\"\n",
        "Output: 6\n",
        "Explanation: The last word is \"joyboy\" with length 6.\n",
        "\n",
        "## Constraints:\n",
        "\n",
        "    1 <= s.length <= 104\n",
        "    s consists of only English letters and spaces ' '.\n",
        "    There will be at least one word in s."
      ],
      "metadata": {
        "id": "JCn-4Sy3YKD8"
      }
    },
    {
      "cell_type": "markdown",
      "source": [
        "## Solução"
      ],
      "metadata": {
        "id": "4m6h2q1bYSDM"
      }
    },
    {
      "cell_type": "code",
      "source": [
        "class Solution(object):\n",
        "    def lengthOfLastWord(self, s):\n",
        "        \"\"\"\n",
        "        :type s: str\n",
        "        :rtype: int\n",
        "        \"\"\"\n",
        "        s = s.strip().split()\n",
        "        return len(s[-1])"
      ],
      "metadata": {
        "id": "iQtdk3LwYVSs"
      },
      "execution_count": null,
      "outputs": []
    },
    {
      "cell_type": "code",
      "source": [
        "solution = Solution()\n",
        "s = \"   fly me   to   the moon  \"\n",
        "retorno = solution.lengthOfLastWord(s)\n",
        "print(retorno)"
      ],
      "metadata": {
        "id": "ks7l-mx1a8Rv"
      },
      "execution_count": null,
      "outputs": []
    },
    {
      "cell_type": "markdown",
      "source": [
        "## Esboço"
      ],
      "metadata": {
        "id": "IPDvRhcNYTue"
      }
    },
    {
      "cell_type": "code",
      "execution_count": null,
      "metadata": {
        "id": "3BA74SAxYGeR"
      },
      "outputs": [],
      "source": [
        "s = \"Hello World\"\n",
        "s = \"   fly me   to   the moon  \"\n",
        "\n",
        "s = s.strip() #remove espaços vazios\n",
        "print(s)\n",
        "\n",
        "s = s.split() #quebra em lista de strings\n",
        "print(s)\n",
        "\n",
        "print(len(s[-1])) #exibe tamanho do último elemento"
      ]
    }
  ]
}