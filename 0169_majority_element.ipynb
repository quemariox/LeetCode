{
  "nbformat": 4,
  "nbformat_minor": 0,
  "metadata": {
    "colab": {
      "private_outputs": true,
      "provenance": [],
      "authorship_tag": "ABX9TyMVc/jxHjmxPDjvAJm0FbYs",
      "include_colab_link": true
    },
    "kernelspec": {
      "name": "python3",
      "display_name": "Python 3"
    },
    "language_info": {
      "name": "python"
    }
  },
  "cells": [
    {
      "cell_type": "markdown",
      "metadata": {
        "id": "view-in-github",
        "colab_type": "text"
      },
      "source": [
        "<a href=\"https://colab.research.google.com/github/quemariox/LeetCode/blob/main/0169_majority_element.ipynb\" target=\"_parent\"><img src=\"https://colab.research.google.com/assets/colab-badge.svg\" alt=\"Open In Colab\"/></a>"
      ]
    },
    {
      "cell_type": "markdown",
      "source": [
        "# Descrição do problema"
      ],
      "metadata": {
        "id": "4EOxwAt-qngW"
      }
    },
    {
      "cell_type": "markdown",
      "source": [
        "## Majority Element\n",
        "\n",
        "Given an array nums of size n, return the majority element.\n",
        "\n",
        "The majority element is the element that appears more than ⌊n / 2⌋ times. You may assume that the majority element always exists in the array.\n",
        "\n",
        "## Examples:\n",
        "\n",
        "Example 1:\n",
        "\n",
        "Input: nums = [3,2,3]\n",
        "Output: 3\n",
        "\n",
        "Example 2:\n",
        "\n",
        "Input: nums = [2,2,1,1,1,2,2]\n",
        "Output: 2\n",
        "\n",
        "## Constraints:\n",
        "\n",
        "    n == nums.length\n",
        "    1 <= n <= 5 * 104\n",
        "    -109 <= nums[i] <= 109\n",
        "\n",
        "Follow-up: Could you solve the problem in linear time and in O(1) space?"
      ],
      "metadata": {
        "id": "su3UFM5vqgEY"
      }
    },
    {
      "cell_type": "markdown",
      "source": [
        "# Solução"
      ],
      "metadata": {
        "id": "TWwtqlbNrCYT"
      }
    },
    {
      "cell_type": "code",
      "source": [
        "class Solution(object):\n",
        "    def majorityElement(self, nums):\n",
        "        \"\"\"\n",
        "        :type nums: List[int]\n",
        "        :rtype: int\n",
        "        \"\"\"\n",
        "        # occurrences{ number : nº occurrences }\n",
        "        occurrences = {}\n",
        "        for i in nums:\n",
        "            if i in occurrences.keys():\n",
        "                occurrences[i] += 1\n",
        "            else:\n",
        "                occurrences[i] = 1\n",
        "\n",
        "        # parity test of nums lenght\n",
        "        if len(nums) % 2 == 0: #even\n",
        "            n = len(nums)/2\n",
        "        else: #odd\n",
        "            n = (len(nums) + 1)/2\n",
        "\n",
        "        # calculating majority\n",
        "        majority = 0\n",
        "        for j in occurrences.keys():\n",
        "            if occurrences[j] >= n:\n",
        "                majority = j\n",
        "\n",
        "        return majority"
      ],
      "metadata": {
        "id": "01zk-LYBrEYR"
      },
      "execution_count": null,
      "outputs": []
    },
    {
      "cell_type": "markdown",
      "source": [
        "# Esboço"
      ],
      "metadata": {
        "id": "rJDfXUOeqrAq"
      }
    },
    {
      "cell_type": "code",
      "execution_count": null,
      "metadata": {
        "id": "Piiz_3HAqb8r"
      },
      "outputs": [],
      "source": [
        "nums = [2,2,1,1,1,2,2,1,2,1,1]\n",
        "\n",
        "#dicionário de ocorrencias {numero : nº de ocorrências}\n",
        "ocorrencias = {}\n",
        "for i in nums:\n",
        "    if i in ocorrencias.keys():\n",
        "        ocorrencias[i] += 1\n",
        "    else:\n",
        "        ocorrencias[i] = 1\n",
        "print(ocorrencias)\n",
        "\n",
        "#tamanho da maioria\n",
        "if len(nums) % 2 == 0:\n",
        "    n = int(len(nums)/2)\n",
        "else:\n",
        "    n = int((len(nums) + 1)/2)\n",
        "\n",
        "#procurando o valor maioria\n",
        "for j in ocorrencias.keys():\n",
        "    if ocorrencias[j] >= n:\n",
        "        maioria = j\n",
        "\n",
        "print(maioria)\n",
        "print(n)"
      ]
    }
  ]
}