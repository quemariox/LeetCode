{
  "nbformat": 4,
  "nbformat_minor": 0,
  "metadata": {
    "colab": {
      "private_outputs": true,
      "provenance": [],
      "authorship_tag": "ABX9TyM7bITYxBsEWFnXixzh3Hv+",
      "include_colab_link": true
    },
    "kernelspec": {
      "name": "python3",
      "display_name": "Python 3"
    },
    "language_info": {
      "name": "python"
    }
  },
  "cells": [
    {
      "cell_type": "markdown",
      "metadata": {
        "id": "view-in-github",
        "colab_type": "text"
      },
      "source": [
        "<a href=\"https://colab.research.google.com/github/quemariox/LeetCode/blob/main/0001-TwoSum.ipynb\" target=\"_parent\"><img src=\"https://colab.research.google.com/assets/colab-badge.svg\" alt=\"Open In Colab\"/></a>"
      ]
    },
    {
      "cell_type": "markdown",
      "source": [
        "# Descrição do problema"
      ],
      "metadata": {
        "id": "YWg4kkNpeZ1q"
      }
    },
    {
      "cell_type": "markdown",
      "source": [
        "Given an array of integers nums and an integer target, return indices of the two numbers such that they add up to target.\n",
        "\n",
        "You may assume that each input would have exactly one solution, and you may not use the same element twice.\n",
        "\n",
        "You can return the answer in any order.\n",
        "\n",
        "\n",
        "\n",
        "Example 1:\n",
        "\n",
        "Input: nums = [2,7,11,15], target = 9\n",
        "\n",
        "Output: [0,1]\n",
        "\n",
        "Explanation: Because nums[0] + nums[1] == 9, we return [0, 1].\n",
        "\n",
        "Example 2:\n",
        "\n",
        "Input: nums = [3,2,4], target = 6\n",
        "\n",
        "Output: [1,2]\n",
        "\n",
        "Example 3:\n",
        "\n",
        "Input: nums = [3,3], target = 6\n",
        "\n",
        "Output: [0,1]\n",
        "\n",
        "\n",
        "\n",
        "Constraints:\n",
        "\n",
        "    2 <= nums.length <= 10^4\n",
        "    -10^9 <= nums[i] <= 10^9\n",
        "    -109 <= target <= 10^9\n",
        "    Only one valid answer exists.\n",
        "\n",
        "\n",
        "Follow-up: Can you come up with an algorithm that is less than O(n2) time complexity?"
      ],
      "metadata": {
        "id": "laDZmAyAldD7"
      }
    },
    {
      "cell_type": "markdown",
      "source": [
        "# Classe"
      ],
      "metadata": {
        "id": "MjjmFZuxgeZ_"
      }
    },
    {
      "cell_type": "code",
      "source": [
        "class Solution(object):\n",
        "  def twoSum(nums: lista, target: int):\n",
        "    index_list = []\n",
        "    for i in range(len(nums)):\n",
        "      for j in range(i + 1, len(nums)):\n",
        "        if nums[i] + nums[j] == target:\n",
        "          index_list = [i,j]\n",
        "          break\n",
        "      if len(index_list) == 2:\n",
        "        break\n",
        "    return index_list\n"
      ],
      "metadata": {
        "id": "0AikEEhMgd1q"
      },
      "execution_count": null,
      "outputs": []
    }
  ]
}