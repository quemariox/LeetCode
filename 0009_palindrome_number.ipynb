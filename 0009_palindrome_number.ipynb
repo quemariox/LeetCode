{
  "nbformat": 4,
  "nbformat_minor": 0,
  "metadata": {
    "colab": {
      "private_outputs": true,
      "provenance": [],
      "authorship_tag": "ABX9TyMqdDeoArpr4W2ww4PHHiDg",
      "include_colab_link": true
    },
    "kernelspec": {
      "name": "python3",
      "display_name": "Python 3"
    },
    "language_info": {
      "name": "python"
    }
  },
  "cells": [
    {
      "cell_type": "markdown",
      "metadata": {
        "id": "view-in-github",
        "colab_type": "text"
      },
      "source": [
        "<a href=\"https://colab.research.google.com/github/quemariox/LeetCode/blob/main/0009_palindrome_number.ipynb\" target=\"_parent\"><img src=\"https://colab.research.google.com/assets/colab-badge.svg\" alt=\"Open In Colab\"/></a>"
      ]
    },
    {
      "cell_type": "markdown",
      "source": [
        "# Descrição do problema"
      ],
      "metadata": {
        "id": "BQQ4Xi62NskN"
      }
    },
    {
      "cell_type": "markdown",
      "source": [
        "## Palindrome Number:\n",
        "Given an integer `x`, return true if `x` is a palindrome, and false otherwise.\n",
        "\n",
        "## Examples:\n",
        "Example 1:\n",
        "\n",
        "Input: x = 121\n",
        "Output: true\n",
        "Explanation: 121 reads as 121 from left to right and from right to left.\n",
        "\n",
        "Example 2:\n",
        "\n",
        "Input: x = -121\n",
        "Output: false\n",
        "Explanation: From left to right, it reads -121. From right to left, it becomes 121-. Therefore it is not a palindrome.\n",
        "\n",
        "Example 3:\n",
        "\n",
        "Input: x = 10\n",
        "Output: false\n",
        "Explanation: Reads 01 from right to left. Therefore it is not a palindrome.\n",
        "\n",
        "\n",
        "## Constraints:\n",
        "\n",
        "    -231 <= x <= 231 - 1\n",
        "\n",
        "## Follow up:\n",
        "Could you solve it without converting the integer to a string?"
      ],
      "metadata": {
        "id": "WNaJkSTWAvcl"
      }
    },
    {
      "cell_type": "markdown",
      "source": [
        "# Solução 1"
      ],
      "metadata": {
        "id": "XAay4mOEQzyb"
      }
    },
    {
      "cell_type": "code",
      "execution_count": null,
      "metadata": {
        "id": "0lI_aUbXAt90"
      },
      "outputs": [],
      "source": [
        "class Solution(object):\n",
        "    def isPalindrome(self, x):\n",
        "        \"\"\"\n",
        "        :type x: int\n",
        "        :rtype: bool\n",
        "        \"\"\"\n",
        "        if x < 0:\n",
        "            return False\n",
        "\n",
        "        if x > 0:\n",
        "            x_list = [int(algarism) for algarism in str(x)]\n",
        "            n = len(x_list)\n",
        "\n",
        "            for i in range(n):\n",
        "                if x_list[i] != x_list[(n-1)-i]:\n",
        "                    return False\n",
        "        return True"
      ]
    },
    {
      "cell_type": "markdown",
      "source": [
        "# Solução 2"
      ],
      "metadata": {
        "id": "5weJvLE_U8G8"
      }
    },
    {
      "cell_type": "code",
      "source": [
        "class Solution(object):\n",
        "    def isPalindrome(self, x):\n",
        "        \"\"\"\n",
        "        :type x: int\n",
        "        :rtype: bool\n",
        "        \"\"\"\n",
        "        if x >= 0:\n",
        "            x_list = [int(algarismo) for algarismo in str(x)]\n",
        "            x_list_rev = [x_list[-1-i] for i in range(len(x_list))]\n",
        "            return x_list == x_list_rev\n",
        "        else:\n",
        "            return False"
      ],
      "metadata": {
        "id": "Xk4zQeTjVEEx"
      },
      "execution_count": null,
      "outputs": []
    },
    {
      "cell_type": "markdown",
      "source": [
        "# Esboços"
      ],
      "metadata": {
        "id": "Nt0m1hzYRUSq"
      }
    },
    {
      "cell_type": "code",
      "source": [
        "x = 1233212\n",
        "is_palindrome = False\n",
        "\n",
        "if x >= 0:\n",
        "    x_list = [int(alg) for alg in str(x)]\n",
        "    print(x_list)\n",
        "\n",
        "    for i in range(len(x_list)):\n",
        "        print(f'i = {i}, indo = {x_list[i]}, -1-i = {-1-i}, voltando = {x_list[-1-i]}')\n",
        "        if x_list[i] != x_list[-1-i]:\n",
        "            is_palindrome = False\n",
        "            print(is_palindrome)\n",
        "            break\n",
        "        else:\n",
        "            is_palindrome = True\n",
        "else:\n",
        "    is_palindrome = False\n",
        "\n",
        "print(is_palindrome)"
      ],
      "metadata": {
        "id": "C9EiCyt3RWPl"
      },
      "execution_count": null,
      "outputs": []
    },
    {
      "cell_type": "code",
      "source": [
        "x = 101101\n",
        "is_palindrome = ''\n",
        "\n",
        "if x >= 0:\n",
        "    x_list = [int(algarism) for algarism in str(x)]\n",
        "    x_list_rev = x_list[::-1]\n",
        "\n",
        "    is_palindrome = x_list == x_list_rev\n",
        "\n",
        "else:\n",
        "    is_palindrome = False\n",
        "\n",
        "print(x_list)\n",
        "print(x_list_rev)\n",
        "print(is_palindrome)"
      ],
      "metadata": {
        "id": "z2oPPN6ZUBUo"
      },
      "execution_count": null,
      "outputs": []
    }
  ]
}