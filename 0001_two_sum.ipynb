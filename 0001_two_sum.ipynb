{
  "nbformat": 4,
  "nbformat_minor": 0,
  "metadata": {
    "colab": {
      "private_outputs": true,
      "provenance": [],
      "authorship_tag": "ABX9TyMY4OvAk7fqdyXofELAhL3L",
      "include_colab_link": true
    },
    "kernelspec": {
      "name": "python3",
      "display_name": "Python 3"
    },
    "language_info": {
      "name": "python"
    }
  },
  "cells": [
    {
      "cell_type": "markdown",
      "metadata": {
        "id": "view-in-github",
        "colab_type": "text"
      },
      "source": [
        "<a href=\"https://colab.research.google.com/github/quemariox/LeetCode/blob/main/0001_two_sum.ipynb\" target=\"_parent\"><img src=\"https://colab.research.google.com/assets/colab-badge.svg\" alt=\"Open In Colab\"/></a>"
      ]
    },
    {
      "cell_type": "markdown",
      "source": [
        "# Descrição do problema"
      ],
      "metadata": {
        "id": "YWg4kkNpeZ1q"
      }
    },
    {
      "cell_type": "markdown",
      "source": [
        "## Two Sum\n",
        "Given an array of integers `nums` and an integer `target`, return indices of the two numbers such that they add up to target.\n",
        "\n",
        "You may assume that each input would have exactly one solution, and you may not use the same element twice.\n",
        "\n",
        "You can return the answer in any order.\n",
        "\n",
        "## Examples:\n",
        "\n",
        "Example 1:\n",
        "\n",
        "Input: nums = [2,7,11,15], target = 9\n",
        "Output: [0,1]\n",
        "Explanation: Because nums[0] + nums[1] == 9, we return [0, 1].\n",
        "\n",
        "Example 2:\n",
        "\n",
        "Input: nums = [3,2,4], target = 6\n",
        "Output: [1,2]\n",
        "\n",
        "Example 3:\n",
        "\n",
        "Input: nums = [3,3], target = 6\n",
        "Output: [0,1]"
      ],
      "metadata": {
        "id": "laDZmAyAldD7"
      }
    },
    {
      "cell_type": "markdown",
      "source": [
        "# Solução"
      ],
      "metadata": {
        "id": "MjjmFZuxgeZ_"
      }
    },
    {
      "cell_type": "code",
      "source": [
        "class Solution(object):\n",
        "    def twoSum(self, nums, target):\n",
        "        \"\"\"\n",
        "        :type nums: List[int]\n",
        "        :type target: int\n",
        "        :rtype: List[int]\n",
        "        \"\"\"\n",
        "        index_list = []\n",
        "        for i in range(len(nums)):\n",
        "            for j in range(i + 1, len(nums)):\n",
        "                if nums[i] + nums[j] == target:\n",
        "                    index_list = [i,j]\n",
        "                    break\n",
        "            #if len(index_list) == 2:\n",
        "            #    break\n",
        "        return index_list"
      ],
      "metadata": {
        "id": "0AikEEhMgd1q"
      },
      "execution_count": null,
      "outputs": []
    },
    {
      "cell_type": "markdown",
      "source": [
        "# Esboço"
      ],
      "metadata": {
        "id": "rV1RmvHkXjiY"
      }
    },
    {
      "cell_type": "code",
      "source": [
        "import random\n",
        "\n",
        "nums = [random.randint(0,10) for x in range(10)]\n",
        "target = random.randint(0,10)\n",
        "index_list = []\n",
        "\n",
        "for i in range(len(nums)):\n",
        "    for j in range(i + 1, len(nums)):\n",
        "        if nums[i] + nums[j] == target:\n",
        "            index_list = [i,j]\n",
        "            #print(f'prova: {nums[i]} + {nums[j]} == {target}')\n",
        "            break\n",
        "    if len(index_list) == 2:\n",
        "        break\n",
        "\n",
        "print(f'lista: {nums}')\n",
        "print(f'target sum:  {target}')\n",
        "print(f'index_list: {index_list}')\n",
        "print(f'prova: {nums[i]} + {nums[j]} == {target}')"
      ],
      "metadata": {
        "id": "UUuSBZ_QJQE9"
      },
      "execution_count": null,
      "outputs": []
    }
  ]
}