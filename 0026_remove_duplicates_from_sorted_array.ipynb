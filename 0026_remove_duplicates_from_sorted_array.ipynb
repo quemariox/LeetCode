{
  "nbformat": 4,
  "nbformat_minor": 0,
  "metadata": {
    "colab": {
      "private_outputs": true,
      "provenance": [],
      "authorship_tag": "ABX9TyNeY8ja1rFm3ozXLoa9as/8",
      "include_colab_link": true
    },
    "kernelspec": {
      "name": "python3",
      "display_name": "Python 3"
    },
    "language_info": {
      "name": "python"
    }
  },
  "cells": [
    {
      "cell_type": "markdown",
      "metadata": {
        "id": "view-in-github",
        "colab_type": "text"
      },
      "source": [
        "<a href=\"https://colab.research.google.com/github/quemariox/LeetCode/blob/main/0026_remove_duplicates_from_sorted_array.ipynb\" target=\"_parent\"><img src=\"https://colab.research.google.com/assets/colab-badge.svg\" alt=\"Open In Colab\"/></a>"
      ]
    },
    {
      "cell_type": "markdown",
      "source": [
        "# Descrição do problema"
      ],
      "metadata": {
        "id": "GfYHehLlqn16"
      }
    },
    {
      "cell_type": "markdown",
      "source": [
        "## Remove Duplicates from Sorted Array\n",
        "\n",
        "Given an integer array `nums` sorted in non-decreasing order, remove the duplicates **in-place** such that each unique element appears only once. The relative order of the elements should be kept the same. Then return the number of unique elements in `nums`.\n",
        "\n",
        "Consider the number of unique elements of nums to be `k`, to get accepted, you need to do the following things:\n",
        "\n",
        "    Change the array nums such that the first k elements of nums contain the unique elements\n",
        "    in the order they were present in nums initially. The remaining elements of nums are not\n",
        "    important as well as the size of nums.\n",
        "    Return k.\n",
        "\n",
        "## GLOSSÁRIO:\n",
        "#### In-Place Algorithm\n",
        "\n",
        "    Um algoritmo in-place modifica a estrutura de dados de entrada (neste caso, a lista nums)\n",
        "    diretamente, sem usar espaço adicional significativo (além de algumas variáveis temporárias).\n",
        "    Isso geralmente significa evitar criar uma nova estrutura de dados ou evitar operações que mudem\n",
        "    o tamanho da estrutura de dados original, como a remoção de elementos.\n",
        "\n",
        "\n",
        "## Custom Judge:\n",
        "\n",
        "The judge will test your solution with the following code:\n",
        "\n",
        "int[] nums = [...]; // Input array\n",
        "int[] expectedNums = [...]; // The expected answer with correct length\n",
        "\n",
        "int k = removeDuplicates(nums); // Calls your implementation\n",
        "\n",
        "assert k == expectedNums.length;\n",
        "for (int i = 0; i < k; i++) {\n",
        "    assert nums[i] == expectedNums[i];\n",
        "}\n",
        "\n",
        "If all assertions pass, then your solution will be accepted.\n",
        "\n",
        "## Examples:  \n",
        "\n",
        "Example 1:\n",
        "\n",
        "Input: nums = [1,1,2]\n",
        "Output: 2, nums = [1,2,_]\n",
        "Explanation: Your function should return k = 2, with the first two elements of nums being 1 and 2 respectively.\n",
        "It does not matter what you leave beyond the returned k (hence they are underscores).\n",
        "\n",
        "Example 2:\n",
        "\n",
        "Input: nums = [0,0,1,1,1,2,2,3,3,4]\n",
        "Output: 5, nums = [0,1,2,3,4,_,_,_,_,_]\n",
        "Explanation: Your function should return k = 5, with the first five elements of nums being 0, 1, 2, 3, and 4 respectively.\n",
        "It does not matter what you leave beyond the returned k (hence they are underscores).\n",
        "\n",
        "## Constraints:\n",
        "    1 <= nums.length <= 3 * 104\n",
        "    -100 <= nums[i] <= 100\n",
        "    nums is sorted in non-decreasing order."
      ],
      "metadata": {
        "id": "BPMq4QRCqcf5"
      }
    },
    {
      "cell_type": "markdown",
      "source": [
        "# Solução (in-place)"
      ],
      "metadata": {
        "id": "r20uirrFs-uJ"
      }
    },
    {
      "cell_type": "code",
      "source": [
        "class Solution(object):\n",
        "    def removeDuplicates(self, nums):\n",
        "        \"\"\"\n",
        "        :type nums: List[int]\n",
        "        :rtype: int\n",
        "        \"\"\"\n",
        "        if not nums:\n",
        "            return 0\n",
        "\n",
        "        i = 0  # ponteiro para o elemento atual\n",
        "        for j in range(1, len(nums)): #\n",
        "            if nums[j] != nums[i]:\n",
        "                i += 1\n",
        "                nums[i] = nums[j]\n",
        "        return i + 1\n"
      ],
      "metadata": {
        "id": "EKqJJG9HtDd4"
      },
      "execution_count": null,
      "outputs": []
    },
    {
      "cell_type": "code",
      "source": [
        "# Testando a solução\n",
        "solution = Solution()\n",
        "nums = [0, 0, 1, 1, 1, 2, 2, 3, 3, 4]\n",
        "k = solution.removeDuplicates(nums)\n",
        "print(k)\n",
        "# Verificando o resultado\n",
        "result = nums[:k], k\n",
        "print(result)  # Saída esperada: ([0, 1, 2, 3, 4], 5)"
      ],
      "metadata": {
        "id": "69CUcrfwuWAk"
      },
      "execution_count": null,
      "outputs": []
    },
    {
      "cell_type": "markdown",
      "source": [
        "# Esboço"
      ],
      "metadata": {
        "id": "vVoqUwlaqsBZ"
      }
    },
    {
      "cell_type": "code",
      "execution_count": null,
      "metadata": {
        "id": "XrEPEUFGqbbz"
      },
      "outputs": [],
      "source": [
        "#Solução que altera as dimensões da lista (não é in-place)\n",
        "\n",
        "nums = [0, 0, 1, 1, 1, 2, 2, 3, 3, 4]\n",
        "\n",
        "i = 0\n",
        "while i < len(nums) - 1:\n",
        "    if nums[i] == nums[i + 1]: #se o número em uma posição for igual ao seu sucessor na lista\n",
        "        nums.remove(nums[i]) #o número é removido da lista\n",
        "        print(nums)\n",
        "    else:\n",
        "        i += 1 #se não for igual, o ponteiro é incrementado\n",
        "k = len(nums)\n",
        "\n",
        "print(k)\n",
        "print(nums)"
      ]
    },
    {
      "cell_type": "code",
      "source": [
        "# Solução que não altera as dimensões da lista (solução in-place)\n",
        "\n",
        "nums = [0, 0, 1, 1, 1, 2, 2, 3, 3, 4]\n",
        "\n",
        "i = 0 #ponteiro para o elemento atual (começa na posição 0)\n",
        "for j in range(1, len(nums)): #percorre a lista (começando pela posição 1)\n",
        "    if nums[j] != nums[i]:\n",
        "        i += 1\n",
        "        nums[i] = nums[j]\n",
        "        print(nums)\n",
        "\n"
      ],
      "metadata": {
        "id": "y9KfQD7VeM3x"
      },
      "execution_count": null,
      "outputs": []
    }
  ]
}