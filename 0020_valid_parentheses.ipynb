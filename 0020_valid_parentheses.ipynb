{
  "nbformat": 4,
  "nbformat_minor": 0,
  "metadata": {
    "colab": {
      "private_outputs": true,
      "provenance": [],
      "authorship_tag": "ABX9TyOJX6ObRMNG+Y9A2ECh9Qzg",
      "include_colab_link": true
    },
    "kernelspec": {
      "name": "python3",
      "display_name": "Python 3"
    },
    "language_info": {
      "name": "python"
    }
  },
  "cells": [
    {
      "cell_type": "markdown",
      "metadata": {
        "id": "view-in-github",
        "colab_type": "text"
      },
      "source": [
        "<a href=\"https://colab.research.google.com/github/quemariox/LeetCode/blob/main/0020_valid_parentheses.ipynb\" target=\"_parent\"><img src=\"https://colab.research.google.com/assets/colab-badge.svg\" alt=\"Open In Colab\"/></a>"
      ]
    },
    {
      "cell_type": "markdown",
      "source": [
        "# Descrição do problema"
      ],
      "metadata": {
        "id": "VYDAxAvF9VEh"
      }
    },
    {
      "cell_type": "markdown",
      "source": [
        "## Valid Parentheses\n",
        "\n",
        "Given a string s containing just the characters '(', ')', '{', '}', '[' and ']', determine if the input string is valid.\n",
        "\n",
        "An input string is valid if:\n",
        "\n",
        "    Open brackets must be closed by the same type of brackets.\n",
        "    Open brackets must be closed in the correct order.\n",
        "    Every close bracket has a corresponding open bracket of the same type.\n",
        "\n",
        "## Examples:\n",
        "\n",
        "Example 1:\n",
        "\n",
        "Input: s = \"()\"\n",
        "Output: true\n",
        "\n",
        "Example 2:\n",
        "\n",
        "Input: s = \"()[]{}\"\n",
        "Output: true\n",
        "\n",
        "Example 3:\n",
        "\n",
        "Input: s = \"(]\"\n",
        "Output: false\n",
        "\n",
        "## Constraints:\n",
        "\n",
        "    1 <= s.length <= 104\n",
        "    s consists of parentheses only '()[]{}'."
      ],
      "metadata": {
        "id": "IB6hZ-IV9jL6"
      }
    },
    {
      "cell_type": "markdown",
      "source": [
        "# Solução"
      ],
      "metadata": {
        "id": "3TCmcWtM92HZ"
      }
    },
    {
      "cell_type": "code",
      "source": [
        "class Solution(object):\n",
        "    def isValid(self, s):\n",
        "        \"\"\"\n",
        "        :type s: str\n",
        "        :rtype: bool\n",
        "        \"\"\"\n",
        "        dict_map = {'(': 1 ,')': -1, '[': 2, ']': -2, '{': 3, '}': -3}\n",
        "        s = [dict_map[i] for i in s]\n",
        "\n",
        "        result = ''\n",
        "        soma = 0\n",
        "        var = 0\n",
        "\n",
        "        for i in range(len(s)):\n",
        "            soma += s[i]\n",
        "            var = s[i] - s[i-1]\n",
        "\n",
        "            if soma < 0:\n",
        "                result = False\n",
        "                break\n",
        "\n",
        "            else:\n",
        "                if (i < len(s) - 1) and\n",
        "                result = True\n",
        "        return result\n",
        "\n",
        "s_list = [\"()\", \"()[]{}\", \"(]\", \"([)]\", \"{[]}\", \"}{\"]\n",
        "for s in s_list:\n",
        "    print(Solution().isValid(s))"
      ],
      "metadata": {
        "id": "RyD34TK4-H7Z"
      },
      "execution_count": null,
      "outputs": []
    },
    {
      "cell_type": "code",
      "source": [],
      "metadata": {
        "id": "OwUHFrzAKOMp"
      },
      "execution_count": null,
      "outputs": []
    },
    {
      "cell_type": "markdown",
      "source": [
        "# Esboço"
      ],
      "metadata": {
        "id": "nam9jtsK-EmA"
      }
    },
    {
      "cell_type": "code",
      "source": [
        "s = \"()\" #t\n",
        "s = \"()[]{}\"\n",
        "#s = \"{[]}\"\n",
        "#s = \"(]\"\n",
        "#s = \"[)\"\n",
        "#s = \"([)]\"\n",
        "print(s)\n",
        "# Mapeando string em lista de inteiros\n",
        "dict_map = { #cada char é uma chave e seu valor é um inteiro correspondente\n",
        "    '(': 1,\n",
        "    ')': -1,\n",
        "    '[': 2,\n",
        "    ']': -2,\n",
        "    '{': 3,\n",
        "    '}': -3\n",
        "}\n",
        "s = [dict_map[i] for i in s] #para cada char da string (chave) pegamos seu inteiro associado (valor)\n",
        "print(s)\n",
        "\n",
        "# Verificando se todos abrem e fecham (soma da lista == 0)\n",
        "result = ''\n",
        "soma = 0\n",
        "\n",
        "for i in range(len(s)):\n",
        "    soma += s[i]\n",
        "    if soma < 0:\n",
        "        print(f'estou no if. i = {s[i]}. soma = {soma}')\n",
        "        result = False\n",
        "        break\n",
        "    else:\n",
        "        print(f'estou no else. i = {s[i]}. soma = {soma}')\n",
        "        result = True\n",
        "print(result)\n",
        "# Verificando se a ordem está correta (soma parcial >= 0)\n",
        "    #imediatamente após '(' só pode vir ')'\n",
        "    #imediatamente após '[' só pode vir '(' ou ']'\n",
        "    #imediatamente após '{' só pode vir '(', '[' ou '}'\n",
        "    #não podemos fechar antes de abrir: ')(', '][' ou '}{'\n"
      ],
      "metadata": {
        "id": "eNjQqo_W-HWr"
      },
      "execution_count": null,
      "outputs": []
    },
    {
      "cell_type": "code",
      "source": [],
      "metadata": {
        "id": "k3lQh7YNPNGd"
      },
      "execution_count": null,
      "outputs": []
    }
  ]
}