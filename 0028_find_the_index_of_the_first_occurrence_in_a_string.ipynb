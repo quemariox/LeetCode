{
  "nbformat": 4,
  "nbformat_minor": 0,
  "metadata": {
    "colab": {
      "private_outputs": true,
      "provenance": [],
      "authorship_tag": "ABX9TyPVXK6chXyMm2J66GcvfYfk",
      "include_colab_link": true
    },
    "kernelspec": {
      "name": "python3",
      "display_name": "Python 3"
    },
    "language_info": {
      "name": "python"
    }
  },
  "cells": [
    {
      "cell_type": "markdown",
      "metadata": {
        "id": "view-in-github",
        "colab_type": "text"
      },
      "source": [
        "<a href=\"https://colab.research.google.com/github/quemariox/LeetCode/blob/main/0028_find_the_index_of_the_first_occurrence_in_a_string.ipynb\" target=\"_parent\"><img src=\"https://colab.research.google.com/assets/colab-badge.svg\" alt=\"Open In Colab\"/></a>"
      ]
    },
    {
      "cell_type": "markdown",
      "source": [
        "# Descrição do problema"
      ],
      "metadata": {
        "id": "o1cg6_sAMOhT"
      }
    },
    {
      "cell_type": "markdown",
      "source": [
        "## Find the Index of the First Occurrence in a String\n",
        "\n",
        "Given two strings needle and haystack, return the index of the first occurrence of needle in haystack, or -1 if needle is not part of haystack.\n",
        "\n",
        "## Examples:\n",
        "\n",
        "Example 1:\n",
        "\n",
        "Input: haystack = \"sadbutsad\", needle = \"sad\"\n",
        "Output: 0\n",
        "Explanation: \"sad\" occurs at index 0 and 6.\n",
        "The first occurrence is at index 0, so we return 0.\n",
        "\n",
        "Example 2:\n",
        "\n",
        "Input: haystack = \"leetcode\", needle = \"leeto\"\n",
        "Output: -1\n",
        "Explanation: \"leeto\" did not occur in \"leetcode\", so we return -1.\n",
        "\n",
        "## Constraints:\n",
        "\n",
        "    1 <= haystack.length, needle.length <= 104\n",
        "    haystack and needle consist of only lowercase English characters."
      ],
      "metadata": {
        "id": "qHIwL2Y2MSww"
      }
    },
    {
      "cell_type": "markdown",
      "source": [
        "## Solução"
      ],
      "metadata": {
        "id": "b-ZedPctMiUI"
      }
    },
    {
      "cell_type": "code",
      "source": [
        "class Solution(object):\n",
        "    def strStr(self, haystack, needle):\n",
        "        \"\"\"\n",
        "        :type haystack: str\n",
        "        :type needle: str\n",
        "        :rtype: int\n",
        "        \"\"\"\n",
        "        hlist = [str(letter) for letter in haystack]\n",
        "        nlist = [str(letter) for letter in needle]\n",
        "\n",
        "        sub = []\n",
        "        index = []\n",
        "\n",
        "        for i in range(len(hlist) - len(nlist) + 1):\n",
        "            sub = hlist[i : (len(nlist) + i)]\n",
        "            if sub == nlist:\n",
        "                index.append(i)\n",
        "                break\n",
        "        if index != []:\n",
        "            return index[0]\n",
        "        else:\n",
        "            return -1"
      ],
      "metadata": {
        "id": "q3UjoDGBJpe6"
      },
      "execution_count": null,
      "outputs": []
    },
    {
      "cell_type": "markdown",
      "source": [
        "## Esboço"
      ],
      "metadata": {
        "id": "el85pvb8MuFk"
      }
    },
    {
      "cell_type": "code",
      "execution_count": null,
      "metadata": {
        "id": "5QV7CNTKCE9T"
      },
      "outputs": [],
      "source": [
        "#Usando listas\n",
        "\n",
        "haystack = \"sadbutsad\"\n",
        "needle = \"sad\"\n",
        "# haystack = \"leetcode\"\n",
        "# needle = \"leeto\"\n",
        "\n",
        "print('\\n')\n",
        "\n",
        "hlist = [str(letra) for letra in haystack]\n",
        "nlist = [str(letra) for letra in needle]\n",
        "\n",
        "print(hlist, len(hlist))\n",
        "print(nlist, len(nlist))\n",
        "\n",
        "index = []\n",
        "sub = []\n",
        "\n",
        "for i in range(len(hlist) - len(nlist) + 1):\n",
        "    sub = hlist[i:(len(nlist)+i)]\n",
        "    if sub == nlist:\n",
        "        index.append(i)\n",
        "\n",
        "print(index)\n",
        "if index != []:\n",
        "    print(index[0])\n",
        "else:\n",
        "    print(-1)\n"
      ]
    },
    {
      "cell_type": "code",
      "source": [
        "#Usando strings\n",
        "\n",
        "haystack = \"sadbutsad\"\n",
        "needle = \"sad\"\n",
        "#haystack = \"leetcode\"\n",
        "#needle = \"leeto\"\n",
        "sub = ''\n",
        "index = ''\n",
        "for i in range(len(haystack)-len(needle)+1):\n",
        "    sub = haystack[i : (len(needle) + i)]\n",
        "    #print(sub)\n",
        "    if sub == needle:\n",
        "        index = i\n",
        "        break\n",
        "if index == '':\n",
        "    print(-1)\n",
        "else:\n",
        "    print(index)"
      ],
      "metadata": {
        "id": "ttmi55yUM4Cs"
      },
      "execution_count": null,
      "outputs": []
    }
  ]
}