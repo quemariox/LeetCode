{
  "nbformat": 4,
  "nbformat_minor": 0,
  "metadata": {
    "colab": {
      "private_outputs": true,
      "provenance": [],
      "authorship_tag": "ABX9TyOQAzvnE2dsDEk2VPwA5JuK",
      "include_colab_link": true
    },
    "kernelspec": {
      "name": "python3",
      "display_name": "Python 3"
    },
    "language_info": {
      "name": "python"
    }
  },
  "cells": [
    {
      "cell_type": "markdown",
      "metadata": {
        "id": "view-in-github",
        "colab_type": "text"
      },
      "source": [
        "<a href=\"https://colab.research.google.com/github/quemariox/LeetCode/blob/main/0027_remove_element.ipynb\" target=\"_parent\"><img src=\"https://colab.research.google.com/assets/colab-badge.svg\" alt=\"Open In Colab\"/></a>"
      ]
    },
    {
      "cell_type": "markdown",
      "source": [
        "# Descrição do problema"
      ],
      "metadata": {
        "id": "BjlllCC3gVQT"
      }
    },
    {
      "cell_type": "markdown",
      "source": [
        "## Remove Element\n",
        "\n",
        "Given an integer array `nums` and an integer `val`, remove all occurrences of `val` in `nums` in-place. The order of the elements may be changed. Then return the number of elements in `nums` which are not equal to `val`.\n",
        "\n",
        "Consider the number of elements in nums which are not equal to `val` be `k`, to get accepted, you need to do the following things:\n",
        "\n",
        "    Change the array nums such that the first k elements of nums contain the elements\n",
        "    which are not equal to val. The remaining elements of nums are not important as well\n",
        "    as the size of nums.\n",
        "    Return k.\n",
        "\n",
        "## Custom Judge:\n",
        "\n",
        "The judge will test your solution with the following code:\n",
        "\n",
        "int[] nums = [...]; // Input array\n",
        "int val = ...; // Value to remove\n",
        "int[] expectedNums = [...]; // The expected answer with correct length.\n",
        "                            // It is sorted with no values equaling val.\n",
        "\n",
        "int k = removeElement(nums, val); // Calls your implementation\n",
        "\n",
        "assert k == expectedNums.length;\n",
        "sort(nums, 0, k); // Sort the first k elements of nums\n",
        "for (int i = 0; i < actualLength; i++) {\n",
        "    assert nums[i] == expectedNums[i];\n",
        "}\n",
        "\n",
        "If all assertions pass, then your solution will be accepted.\n",
        "\n",
        "## Examples:\n",
        "\n",
        "Example 1:\n",
        "\n",
        "Input: nums = [3,2,2,3], val = 3\n",
        "Output: 2, nums = [2,2,_,_]\n",
        "Explanation: Your function should return k = 2, with the first two elements of nums being 2.\n",
        "It does not matter what you leave beyond the returned k (hence they are underscores).\n",
        "\n",
        "Example 2:\n",
        "\n",
        "Input: nums = [0,1,2,2,3,0,4,2], val = 2\n",
        "Output: 5, nums = [0,1,4,0,3,_,_,_]\n",
        "Explanation: Your function should return k = 5, with the first five elements of nums containing 0, 0, 1, 3, and 4.\n",
        "Note that the five elements can be returned in any order.\n",
        "It does not matter what you leave beyond the returned k (hence they are underscores).\n",
        "\n",
        "## Constraints:\n",
        "\n",
        "    0 <= nums.length <= 100\n",
        "    0 <= nums[i] <= 50\n",
        "    0 <= val <= 100"
      ],
      "metadata": {
        "id": "yJTeHWT1gX2a"
      }
    },
    {
      "cell_type": "markdown",
      "source": [
        "# Solução"
      ],
      "metadata": {
        "id": "fUl_2Ig2uFFZ"
      }
    },
    {
      "cell_type": "code",
      "source": [
        "class Solution(object):\n",
        "    def removeElement(self, nums, val):\n",
        "        \"\"\"\n",
        "        :type nums: List[int]\n",
        "        :type val: int\n",
        "        :rtype: int\n",
        "        \"\"\"\n",
        "        # Inicializando um ponteiro para o próximo elemento que não seja val\n",
        "        k = 0\n",
        "\n",
        "        for i in range(len(nums)):\n",
        "            if nums[i] != val:\n",
        "                # Se nums[i] não for val, copie o elemento para a posição k\n",
        "                nums[k] = nums[i]\n",
        "                k += 1\n",
        "\n",
        "        # Retorne o comprimento da nova lista após a remoção dos elementos\n",
        "        return k\n"
      ],
      "metadata": {
        "id": "wT1YYSg8_-zm"
      },
      "execution_count": null,
      "outputs": []
    },
    {
      "cell_type": "code",
      "source": [
        "class Solution(object):\n",
        "    def removeElement(self, nums, val):\n",
        "        \"\"\"\n",
        "        :type nums: List[int]\n",
        "        :type val: int\n",
        "        :rtype: int\n",
        "        \"\"\"\n",
        "        count = 0\n",
        "        for i in range(len(nums)):\n",
        "            if nums[i] == val:\n",
        "                nums[i] = ''\n",
        "                count += 1\n",
        "\n",
        "        k = len(nums) - count\n",
        "\n",
        "        return k"
      ],
      "metadata": {
        "id": "w_eFYKfyuGPn"
      },
      "execution_count": null,
      "outputs": []
    },
    {
      "cell_type": "code",
      "source": [
        "solution = Solution()\n",
        "nums = [3,2,2,3]\n",
        "val = 3\n",
        "k = solution.removeElement(nums,val)\n",
        "print(k)"
      ],
      "metadata": {
        "id": "-pz99gBAv5tU"
      },
      "execution_count": null,
      "outputs": []
    },
    {
      "cell_type": "markdown",
      "source": [
        "# Esboço"
      ],
      "metadata": {
        "id": "VYD5kXgKuDby"
      }
    },
    {
      "cell_type": "code",
      "execution_count": null,
      "metadata": {
        "id": "B6xIIPd7gTP7"
      },
      "outputs": [],
      "source": [
        "# Solução que não altera as dimensões da lista (solução in-place)\n",
        "\n",
        "nums = [0,1,2,2,3,0,4,2]\n",
        "nums = [3,2,2,3]\n",
        "print(nums)\n",
        "\n",
        "val = 2\n",
        "count = 0\n",
        "\n",
        "for i in range(len(nums)):\n",
        "    if nums[i] == val:\n",
        "        nums[i] = ''\n",
        "        count += 1\n",
        "        print(nums, count)\n",
        "\n",
        "k = len(nums) - count\n",
        "print(nums, k, count)\n",
        "print(k)"
      ]
    }
  ]
}