{
  "nbformat": 4,
  "nbformat_minor": 0,
  "metadata": {
    "colab": {
      "private_outputs": true,
      "provenance": [],
      "authorship_tag": "ABX9TyOBeZ059E4XPSLFU9JS/bTK",
      "include_colab_link": true
    },
    "kernelspec": {
      "name": "python3",
      "display_name": "Python 3"
    },
    "language_info": {
      "name": "python"
    }
  },
  "cells": [
    {
      "cell_type": "markdown",
      "metadata": {
        "id": "view-in-github",
        "colab_type": "text"
      },
      "source": [
        "<a href=\"https://colab.research.google.com/github/quemariox/LeetCode/blob/main/0002_adding_two_numbers.ipynb\" target=\"_parent\"><img src=\"https://colab.research.google.com/assets/colab-badge.svg\" alt=\"Open In Colab\"/></a>"
      ]
    },
    {
      "cell_type": "code",
      "execution_count": null,
      "metadata": {
        "id": "sFG-EdLkm923"
      },
      "outputs": [],
      "source": [
        "l1 = [2,4,3]\n",
        "print(f'l1 = {l1}')\n",
        "l2 = [3,4,7]\n",
        "print(f'l2 = {l2}')\n",
        "\n",
        "print('\\n')\n",
        "\n",
        "n = 0\n",
        "if len(l1) >= len(l2):\n",
        "  n = len(l1)\n",
        "else:\n",
        "  n = len(l2)\n",
        "\n",
        "l3 = [0 for i in range(n)]\n",
        "print(l3)\n",
        "\n",
        "\n",
        "for i in range(n):\n",
        "  print(f'i = {i}')\n",
        "  l3[-i-1] = l1[-i-1] + l2[-i-1]\n",
        "  print(l3)\n",
        "\n",
        "print('\\n')\n",
        "\n",
        "for j in range(n):\n",
        "  print(f'j = {j}')\n",
        "  if l3[-j] >= 10:\n",
        "    l3[-j] = l3[-j] - 10\n",
        "    l3[-j-1] += 1\n",
        "  print(l3)\n"
      ]
    },
    {
      "cell_type": "code",
      "source": [],
      "metadata": {
        "id": "wtIbBC_Awn8l"
      },
      "execution_count": null,
      "outputs": []
    },
    {
      "cell_type": "code",
      "source": [
        "l3[-1] = l1[-1] + l2[-1]\n",
        "print(l3)\n",
        "\n",
        "l3[-2] = l1[-2] + l2[-2]\n",
        "print(l3)\n",
        "\n",
        "l3[-3] = l1[-3] + l2[-3]\n",
        "print(l3)"
      ],
      "metadata": {
        "id": "PuwgEdX4sC1a"
      },
      "execution_count": null,
      "outputs": []
    },
    {
      "cell_type": "code",
      "source": [
        "l1 = [1,2,3]\n",
        "l2 = [3,4,5]\n",
        "n = 2\n",
        "print(l1[-1-n])"
      ],
      "metadata": {
        "id": "cJy1Xoz0p_Au"
      },
      "execution_count": null,
      "outputs": []
    },
    {
      "cell_type": "code",
      "source": [],
      "metadata": {
        "id": "a9s3w5oowcYd"
      },
      "execution_count": null,
      "outputs": []
    }
  ]
}