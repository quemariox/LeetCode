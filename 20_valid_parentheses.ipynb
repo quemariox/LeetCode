{
  "nbformat": 4,
  "nbformat_minor": 0,
  "metadata": {
    "colab": {
      "private_outputs": true,
      "provenance": [],
      "authorship_tag": "ABX9TyP3gTYKyqx5EGYfH/MBazDb",
      "include_colab_link": true
    },
    "kernelspec": {
      "name": "python3",
      "display_name": "Python 3"
    },
    "language_info": {
      "name": "python"
    }
  },
  "cells": [
    {
      "cell_type": "markdown",
      "metadata": {
        "id": "view-in-github",
        "colab_type": "text"
      },
      "source": [
        "<a href=\"https://colab.research.google.com/github/quemariox/LeetCode/blob/main/20_valid_parentheses.ipynb\" target=\"_parent\"><img src=\"https://colab.research.google.com/assets/colab-badge.svg\" alt=\"Open In Colab\"/></a>"
      ]
    },
    {
      "cell_type": "markdown",
      "source": [
        "# Descrição do problema"
      ],
      "metadata": {
        "id": "VYDAxAvF9VEh"
      }
    },
    {
      "cell_type": "markdown",
      "source": [
        "## Valid Parentheses\n",
        "\n",
        "Given a string s containing just the characters '(', ')', '{', '}', '[' and ']', determine if the input string is valid.\n",
        "\n",
        "An input string is valid if:\n",
        "\n",
        "    Open brackets must be closed by the same type of brackets.\n",
        "    Open brackets must be closed in the correct order.\n",
        "    Every close bracket has a corresponding open bracket of the same type.\n",
        "\n",
        "## Examples:\n",
        "\n",
        "Example 1:\n",
        "\n",
        "Input: s = \"()\"\n",
        "Output: true\n",
        "\n",
        "Example 2:\n",
        "\n",
        "Input: s = \"()[]{}\"\n",
        "Output: true\n",
        "\n",
        "Example 3:\n",
        "\n",
        "Input: s = \"(]\"\n",
        "Output: false\n",
        "\n",
        "## Constraints:\n",
        "\n",
        "    1 <= s.length <= 104\n",
        "    s consists of parentheses only '()[]{}'."
      ],
      "metadata": {
        "id": "IB6hZ-IV9jL6"
      }
    },
    {
      "cell_type": "markdown",
      "source": [
        "# Solução"
      ],
      "metadata": {
        "id": "3TCmcWtM92HZ"
      }
    },
    {
      "cell_type": "code",
      "source": [
        "class Solution(object):\n",
        "    def isValid(self, s):\n",
        "        \"\"\"\n",
        "        :type s: str\n",
        "        :rtype: bool\n",
        "        \"\"\"\n",
        "        # Mapeando simbolos em inteiros:\n",
        "        dict_subst = {'(':1, ')':-1, '[':2, ']':-2, '{':3, '}':-3}\n",
        "        s_list = [dict_subst.get(x,x) for x in s]\n",
        "\n",
        "        # Iniciando os contadores:\n",
        "        cont_parenteses = []\n",
        "        cont_colchetes = []\n",
        "        cont_chaves = []\n",
        "\n",
        "\n",
        "        # Verificando se a string é válida:  ABRIMOS ANTES DE FECHAR???\n",
        "\n",
        "        # caso a soma das listas \"cont\" seja negativa em algum momento, significa que abrimos algo antes de fechar\n",
        "        for i in s_list:\n",
        "            if i == 1:\n",
        "                cont_parenteses.append(i)\n",
        "                if sum(cont_parenteses) < 0:\n",
        "                    return False\n",
        "            elif i == 2:\n",
        "                cont_colchetes.append(i)\n",
        "                if sum(cont_colchetes) < 0:\n",
        "                    return False\n",
        "            elif i == 3:\n",
        "                cont_chaves.append(i)\n",
        "                if sum(cont_chaves) < 0:\n",
        "                    return False\n",
        "\n",
        "        # Verificando se a string é válida: FECHAMOS TUDO QUE ABRIMOS???\n",
        "        # se o nº de () [] e {} está correto, então passa para o loop.\n",
        "            elif sum(s_list) == 0:\n",
        "                for i in s_list:\n",
        "                    if s_list[i] == 1 and s_list[i+1] != -1: #após ( só pode vir um )\n",
        "                        return False\n",
        "                    elif s_list[i] == 2 and ((s_list[i+1] != -2) or (s_list != 1)): #após [ só pode vir () ou ]\n",
        "                        return False\n",
        "                    elif s_list[i] == 3 and ((s_list[i+1] != -3) or (s_list[i+1] != 1) or (s_list[i+1] != 2)) :  #após { só pode vir um (),[] ou }\n",
        "                        return False\n",
        "                    return True\n",
        "            else: #se o nº de () [] e {} não está correto, retorna Falso.\n",
        "                return False\n",
        ""
      ],
      "metadata": {
        "id": "RyD34TK4-H7Z"
      },
      "execution_count": null,
      "outputs": []
    },
    {
      "cell_type": "code",
      "source": [
        "# Criando uma instância da classe Solution\n",
        "sol = Solution()\n",
        "\n",
        "# Inserindo a string manualmente\n",
        "input_string = \"{}\"\n",
        "\n",
        "# Chamando o método isValid com a string fornecida\n",
        "result = sol.isValid(input_string)\n",
        "\n",
        "# Imprimindo o resultado\n",
        "print(f\"Is the string '{input_string}' valid? {result}\")\n"
      ],
      "metadata": {
        "id": "OwUHFrzAKOMp"
      },
      "execution_count": null,
      "outputs": []
    },
    {
      "cell_type": "markdown",
      "source": [
        "# Esboço"
      ],
      "metadata": {
        "id": "nam9jtsK-EmA"
      }
    },
    {
      "cell_type": "code",
      "source": [
        "# parêntesis:  '(' = 1 e ')' = -1\n",
        "# colchetes:   '[' = 2 e ']' = -2\n",
        "# chaves:      '{' = 3 e '}' = -3\n",
        "\n",
        "# Entrada\n",
        "s = \"()[]{}\"\n",
        "# Mapeando simbolos em inteiros:\n",
        "dict_subst = {'(':1, ')':-1, '[':2, ']':-2, '{':3, '}':-3}\n",
        "s_list = [dict_subst.get(x,x) for x in s]\n",
        "#print(dict_subst)\n",
        "# Iniciando os contadores:\n",
        "cont_parenteses = []\n",
        "cont_colchetes = []\n",
        "cont_chaves = []\n",
        "# Exibição:\n",
        "print(f'Entrada string: {s}')\n",
        "print(f'Lista: {s_list}')\n",
        "#\n",
        "if sum(s_list) == 0:\n",
        "    print(True)\n",
        "else:\n",
        "    print(False)"
      ],
      "metadata": {
        "id": "eNjQqo_W-HWr"
      },
      "execution_count": null,
      "outputs": []
    },
    {
      "cell_type": "code",
      "source": [
        "s = \"()\"\n",
        "#s = \"()[]{}\"\n",
        "#s = \"(])[\"\n",
        "#s = \"([)]\"\n",
        "#s = \"{[]}\"\n",
        "\n",
        "dict_subst = {'(':1, ')':-1, '[':2, ']':-2, '{':3, '}':-3}\n",
        "s_list = [dict_subst.get(x,x) for x in s]\n",
        "\n",
        "result = ''\n",
        "partial_sum = 0\n",
        "\n",
        "#Verificando se fechou tudo que abriu\n",
        "if sum(s_list) == 0:\n",
        "\n",
        "    #Verificando se abriu algo antes de fechar\n",
        "    for simbolo in s_list:\n",
        "        partial_sum += simbolo\n",
        "        if partial_sum < 0:\n",
        "            result = False\n",
        "            break\n",
        "        else:\n",
        "            result = True\n",
        "\n",
        "    #Verificando a ordem de prioridade {[()]}\n",
        "    if result == True:\n",
        "        for i in range(len(s_list)):\n",
        "            print(s_list[i])\n",
        "\n",
        "            if s_list[i] == 1:\n",
        "                if (s_list[i+1] != -1): #após ( só pode vir um )\n",
        "                    result = False\n",
        "                    break\n",
        "            elif s_list[i] == 2:\n",
        "                if ((s_list[i+1] != 1) or (s_list[i+1] != -2)): #após [ só pode vir () ou ]\n",
        "                    result = False\n",
        "                    break\n",
        "            elif s_list == 3:\n",
        "                if ((s_list[i+1] != 1) or (s_list[i+1] != 2) or (s_list[i+1] != -3)):  #após { só pode vir um (),[] ou }\n",
        "                    result = False\n",
        "                    break\n",
        "else:\n",
        "    result = False\n",
        "    print('A soma não deu zero!')\n",
        "\n",
        "print(s_list)\n",
        "print(result)"
      ],
      "metadata": {
        "id": "k3lQh7YNPNGd"
      },
      "execution_count": null,
      "outputs": []
    }
  ]
}