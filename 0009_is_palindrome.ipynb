{
  "nbformat": 4,
  "nbformat_minor": 0,
  "metadata": {
    "colab": {
      "private_outputs": true,
      "provenance": [],
      "authorship_tag": "ABX9TyPoqURb/WAavatkiyHZYmv5",
      "include_colab_link": true
    },
    "kernelspec": {
      "name": "python3",
      "display_name": "Python 3"
    },
    "language_info": {
      "name": "python"
    }
  },
  "cells": [
    {
      "cell_type": "markdown",
      "metadata": {
        "id": "view-in-github",
        "colab_type": "text"
      },
      "source": [
        "<a href=\"https://colab.research.google.com/github/quemariox/LeetCode/blob/main/0009_is_palindrome.ipynb\" target=\"_parent\"><img src=\"https://colab.research.google.com/assets/colab-badge.svg\" alt=\"Open In Colab\"/></a>"
      ]
    },
    {
      "cell_type": "markdown",
      "source": [
        "Given an integer x, return true if x is a\n",
        "palindrome\n",
        ", and false otherwise.\n",
        "\n",
        "\n",
        "\n",
        "Example 1:\n",
        "\n",
        "Input: x = 121\n",
        "Output: true\n",
        "Explanation: 121 reads as 121 from left to right and from right to left.\n",
        "\n",
        "Example 2:\n",
        "\n",
        "Input: x = -121\n",
        "Output: false\n",
        "Explanation: From left to right, it reads -121. From right to left, it becomes 121-. Therefore it is not a palindrome.\n",
        "\n",
        "Example 3:\n",
        "\n",
        "Input: x = 10\n",
        "Output: false\n",
        "Explanation: Reads 01 from right to left. Therefore it is not a palindrome.\n",
        "\n",
        "\n",
        "\n",
        "Constraints:\n",
        "\n",
        "    -231 <= x <= 231 - 1\n",
        "\n",
        "\n",
        "Follow up: Could you solve it without converting the integer to a string?"
      ],
      "metadata": {
        "id": "WNaJkSTWAvcl"
      }
    },
    {
      "cell_type": "code",
      "execution_count": null,
      "metadata": {
        "id": "0lI_aUbXAt90"
      },
      "outputs": [],
      "source": [
        "class Solution(object):\n",
        "    def isPalindrome(self, x):\n",
        "        \"\"\"\n",
        "        :type x: int\n",
        "        :rtype: bool\n",
        "        \"\"\"\n",
        "        if x < 0:\n",
        "            return False\n",
        "\n",
        "        if x > 0:\n",
        "            x_list = [int(algarism) for algarism in str(x)]\n",
        "            n = len(x_list)\n",
        "\n",
        "            for i in range(n):\n",
        "                if x_list[i] != x_list[(n-1)-i]:\n",
        "                    return False\n",
        "        return True"
      ]
    }
  ]
}